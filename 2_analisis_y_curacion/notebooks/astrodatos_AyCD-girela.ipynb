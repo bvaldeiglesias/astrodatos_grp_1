{
 "cells": [
  {
   "cell_type": "markdown",
   "metadata": {},
   "source": [
    "# Mapeando el Universo\n",
    "\n"
   ]
  },
  {
   "cell_type": "markdown",
   "metadata": {},
   "source": [
    "## Análisis y Curación"
   ]
  },
  {
   "cell_type": "markdown",
   "metadata": {},
   "source": [
    " **1 - Análisis general**\n",
    " \n",
    " * Describir el conjunto de datos. Tratamiento de datos faltantes, outliers, datos repetidos.\n",
    " * Considerando el objetivo pricipal de la mentoría, cuáles creen que serían las variables más importantes a considerar?\n",
    " * Implementar herramientas en pos de la reproducibilidad de resultados.\n",
    " \n",
    "**2 - Análisis estadístico** \n",
    "  * Nos ha contado el especialista que del proceso de adquisición de los mismos se asegura que los datos son correctos y/o completos para aquellos objetos que tienen Magnitudes Pretosian en la banda r entre 14.5 y 17.77. Incluyan esta selección en su análisis.\n",
    "  * Explorar la base de datos en búsqueda de datos repetidos, en caso de hallarlos elegir la estrategia para su limpieza.\n",
    "  * Dado que los datos son recolectados a través de mapeos sucesivos del cielo es posible que una galaxia sea observada más de una vez, y en cada observación se le asigne un ID diferente. Propongan una idea para defectar la base de datos de este problema.\n",
    "       * **Extra**: el especialista en datos no confía en objetos que tengan una separación angular con otro objeto menor a 1\" de arco. Intenten limpiar los datos empleando este criterio.\n",
    "  * Propongan una estrategia para tratar los datos faltantes (en algunas columnas los datos faltantes fueron sustituidos por valores extremos). Quitar o imputar?. Calcular los estadísticos de las distribuciones resultantes.\n",
    "  * Añadir los campos con los colores calculados tanto para magnitudes petrosian como magnitudes model.\n",
    "  * En función de las correlaciones observadas en el práctico anterior, y con respecto a nuestra variable objetivo, propongan qué variables se podría excluir del dataset. \n",
    "  * Guardar el dataset \"limpio\" y generar un archivo README que contenga todos los pasos implementados en la curación de los datos.\n",
    "  * Armen un contenedor de docker con las versiones exactas de todas las bibliotecas utilizadas."
   ]
  },
  {
   "cell_type": "markdown",
   "metadata": {},
   "source": [
    "### Lectura de datos"
   ]
  },
  {
   "cell_type": "markdown",
   "metadata": {},
   "source": [
    "Esto es una manera, pueden utilizar las que más les convenga"
   ]
  },
  {
   "cell_type": "code",
   "execution_count": 1,
   "metadata": {},
   "outputs": [
    {
     "data": {
      "application/javascript": [
       "IPython.OutputArea.prototype._should_scroll = function(lines) {\n",
       "    return false;\n",
       "}\n"
      ],
      "text/plain": [
       "<IPython.core.display.Javascript object>"
      ]
     },
     "metadata": {},
     "output_type": "display_data"
    }
   ],
   "source": [
    "%%javascript\n",
    "IPython.OutputArea.prototype._should_scroll = function(lines) {\n",
    "    return false;\n",
    "}"
   ]
  },
  {
   "cell_type": "code",
   "execution_count": 2,
   "metadata": {},
   "outputs": [],
   "source": [
    "import warnings\n",
    "warnings.filterwarnings('ignore')"
   ]
  },
  {
   "cell_type": "code",
   "execution_count": 3,
   "metadata": {},
   "outputs": [],
   "source": [
    "import pandas as pd\n",
    "import numpy as np\n",
    "import matplotlib.pyplot as plt\n",
    "import seaborn as sns"
   ]
  },
  {
   "cell_type": "code",
   "execution_count": 4,
   "metadata": {},
   "outputs": [],
   "source": [
    "filename = \"DiploDatos.csv\""
   ]
  },
  {
   "cell_type": "code",
   "execution_count": 5,
   "metadata": {
    "scrolled": true
   },
   "outputs": [
    {
     "name": "stdout",
     "output_type": "stream",
     "text": [
      "<class 'pandas.core.frame.DataFrame'>\n",
      "Int64Index: 5000 entries, 537174960955746304 to 647395508997875712\n",
      "Columns: 115 entries, z to extinction_z\n",
      "dtypes: float64(113), int64(1), object(1)\n",
      "memory usage: 4.6 MB\n"
     ]
    }
   ],
   "source": [
    "df = pd.read_csv(filename, index_col=0)\n",
    "df.info(memory_usage='deep')"
   ]
  },
  {
   "cell_type": "code",
   "execution_count": 6,
   "metadata": {},
   "outputs": [],
   "source": [
    "df['modelColor_ug'] = df['modelMag_u'] - df['modelMag_g']\n",
    "df['modelColor_gr'] = df['modelMag_g'] - df['modelMag_r']\n",
    "df['modelColor_ri'] = df['modelMag_r'] - df['modelMag_i']\n",
    "df['modelColor_iz'] = df['modelMag_i'] - df['modelMag_z']\n",
    "df['petroColor_ug'] = df['petroMag_u'] - df['petroMag_g']\n",
    "df['petroColor_gr'] = df['petroMag_g'] - df['petroMag_r']\n",
    "df['petroColor_ri'] = df['petroMag_r'] - df['petroMag_i']\n",
    "df['petroColor_iz'] = df['petroMag_i'] - df['petroMag_z']"
   ]
  },
  {
   "cell_type": "markdown",
   "metadata": {},
   "source": [
    "### Uniendo dataframes\n",
    "\n",
    "Vamos a ir un poco más allá y vamos a unir la tabla anterior con otra donde para algunas de las galaxias la gente a votado si se corresponde con una galaxia espiral, eliptica o irregular."
   ]
  },
  {
   "cell_type": "code",
   "execution_count": 7,
   "metadata": {},
   "outputs": [],
   "source": [
    "filename = 'Dataset_Zoo.csv'"
   ]
  },
  {
   "cell_type": "code",
   "execution_count": 8,
   "metadata": {},
   "outputs": [],
   "source": [
    "zoo = pd.read_csv(filename,index_col=0,dtype = {'spiral':np.int64,'elliptical':np.int64,'uncertain':np.int64})"
   ]
  },
  {
   "cell_type": "code",
   "execution_count": 9,
   "metadata": {},
   "outputs": [
    {
     "data": {
      "text/plain": [
       "spiral        int64\n",
       "elliptical    int64\n",
       "uncertain     int64\n",
       "dtype: object"
      ]
     },
     "execution_count": 9,
     "metadata": {},
     "output_type": "execute_result"
    }
   ],
   "source": [
    "zoo.dtypes"
   ]
  },
  {
   "cell_type": "code",
   "execution_count": 10,
   "metadata": {},
   "outputs": [
    {
     "name": "stdout",
     "output_type": "stream",
     "text": [
      "<class 'pandas.core.frame.DataFrame'>\n",
      "Int64Index: 5000 entries, 537174960955746304 to 647395508997875712\n",
      "Columns: 126 entries, z to uncertain\n",
      "dtypes: float64(121), int64(4), object(1)\n",
      "memory usage: 5.2 MB\n"
     ]
    }
   ],
   "source": [
    "dd = df.join(zoo)\n",
    "dd.info(memory_usage='deep')"
   ]
  },
  {
   "cell_type": "code",
   "execution_count": 11,
   "metadata": {},
   "outputs": [
    {
     "data": {
      "text/html": [
       "<div>\n",
       "<style scoped>\n",
       "    .dataframe tbody tr th:only-of-type {\n",
       "        vertical-align: middle;\n",
       "    }\n",
       "\n",
       "    .dataframe tbody tr th {\n",
       "        vertical-align: top;\n",
       "    }\n",
       "\n",
       "    .dataframe thead th {\n",
       "        text-align: right;\n",
       "    }\n",
       "</style>\n",
       "<table border=\"1\" class=\"dataframe\">\n",
       "  <thead>\n",
       "    <tr style=\"text-align: right;\">\n",
       "      <th></th>\n",
       "      <th>z</th>\n",
       "      <th>zErr</th>\n",
       "      <th>zWarning</th>\n",
       "      <th>subClass</th>\n",
       "      <th>velDisp</th>\n",
       "      <th>velDispErr</th>\n",
       "      <th>ra</th>\n",
       "      <th>dec</th>\n",
       "      <th>raErr</th>\n",
       "      <th>decErr</th>\n",
       "      <th>...</th>\n",
       "      <th>modelColor_gr</th>\n",
       "      <th>modelColor_ri</th>\n",
       "      <th>modelColor_iz</th>\n",
       "      <th>petroColor_ug</th>\n",
       "      <th>petroColor_gr</th>\n",
       "      <th>petroColor_ri</th>\n",
       "      <th>petroColor_iz</th>\n",
       "      <th>spiral</th>\n",
       "      <th>elliptical</th>\n",
       "      <th>uncertain</th>\n",
       "    </tr>\n",
       "    <tr>\n",
       "      <th>specObjID</th>\n",
       "      <th></th>\n",
       "      <th></th>\n",
       "      <th></th>\n",
       "      <th></th>\n",
       "      <th></th>\n",
       "      <th></th>\n",
       "      <th></th>\n",
       "      <th></th>\n",
       "      <th></th>\n",
       "      <th></th>\n",
       "      <th></th>\n",
       "      <th></th>\n",
       "      <th></th>\n",
       "      <th></th>\n",
       "      <th></th>\n",
       "      <th></th>\n",
       "      <th></th>\n",
       "      <th></th>\n",
       "      <th></th>\n",
       "      <th></th>\n",
       "      <th></th>\n",
       "    </tr>\n",
       "  </thead>\n",
       "  <tbody>\n",
       "    <tr>\n",
       "      <th>537174960955746304</th>\n",
       "      <td>0.120811</td>\n",
       "      <td>0.000022</td>\n",
       "      <td>0</td>\n",
       "      <td>NaN</td>\n",
       "      <td>217.59020</td>\n",
       "      <td>10.25926</td>\n",
       "      <td>144.493971</td>\n",
       "      <td>2.210449</td>\n",
       "      <td>0.006186</td>\n",
       "      <td>0.005806</td>\n",
       "      <td>...</td>\n",
       "      <td>1.06015</td>\n",
       "      <td>0.46939</td>\n",
       "      <td>0.36341</td>\n",
       "      <td>2.14849</td>\n",
       "      <td>1.02347</td>\n",
       "      <td>0.46319</td>\n",
       "      <td>0.37277</td>\n",
       "      <td>0</td>\n",
       "      <td>0</td>\n",
       "      <td>1</td>\n",
       "    </tr>\n",
       "    <tr>\n",
       "      <th>963908897964320768</th>\n",
       "      <td>0.184984</td>\n",
       "      <td>0.000056</td>\n",
       "      <td>0</td>\n",
       "      <td>NaN</td>\n",
       "      <td>216.62740</td>\n",
       "      <td>20.39831</td>\n",
       "      <td>209.490025</td>\n",
       "      <td>5.283101</td>\n",
       "      <td>0.010478</td>\n",
       "      <td>0.010642</td>\n",
       "      <td>...</td>\n",
       "      <td>1.29482</td>\n",
       "      <td>0.48549</td>\n",
       "      <td>0.34711</td>\n",
       "      <td>1.21057</td>\n",
       "      <td>1.32124</td>\n",
       "      <td>0.42321</td>\n",
       "      <td>0.32182</td>\n",
       "      <td>0</td>\n",
       "      <td>0</td>\n",
       "      <td>1</td>\n",
       "    </tr>\n",
       "    <tr>\n",
       "      <th>963899002359670784</th>\n",
       "      <td>0.123085</td>\n",
       "      <td>0.000024</td>\n",
       "      <td>0</td>\n",
       "      <td>NaN</td>\n",
       "      <td>125.84820</td>\n",
       "      <td>18.16804</td>\n",
       "      <td>209.532566</td>\n",
       "      <td>5.248963</td>\n",
       "      <td>0.013511</td>\n",
       "      <td>0.018933</td>\n",
       "      <td>...</td>\n",
       "      <td>0.72718</td>\n",
       "      <td>0.40336</td>\n",
       "      <td>0.23817</td>\n",
       "      <td>1.03001</td>\n",
       "      <td>0.63254</td>\n",
       "      <td>0.33633</td>\n",
       "      <td>0.07673</td>\n",
       "      <td>0</td>\n",
       "      <td>0</td>\n",
       "      <td>1</td>\n",
       "    </tr>\n",
       "    <tr>\n",
       "      <th>650881510949283840</th>\n",
       "      <td>0.033447</td>\n",
       "      <td>0.000016</td>\n",
       "      <td>0</td>\n",
       "      <td>STARFORMING</td>\n",
       "      <td>69.24703</td>\n",
       "      <td>35.04654</td>\n",
       "      <td>160.169765</td>\n",
       "      <td>5.365856</td>\n",
       "      <td>0.057035</td>\n",
       "      <td>0.051051</td>\n",
       "      <td>...</td>\n",
       "      <td>0.46788</td>\n",
       "      <td>0.30681</td>\n",
       "      <td>0.16218</td>\n",
       "      <td>1.88227</td>\n",
       "      <td>0.29779</td>\n",
       "      <td>0.35605</td>\n",
       "      <td>0.06031</td>\n",
       "      <td>0</td>\n",
       "      <td>0</td>\n",
       "      <td>1</td>\n",
       "    </tr>\n",
       "    <tr>\n",
       "      <th>476422542035281920</th>\n",
       "      <td>0.115328</td>\n",
       "      <td>0.000017</td>\n",
       "      <td>0</td>\n",
       "      <td>NaN</td>\n",
       "      <td>81.90747</td>\n",
       "      <td>21.27902</td>\n",
       "      <td>19.808034</td>\n",
       "      <td>15.684047</td>\n",
       "      <td>0.021823</td>\n",
       "      <td>0.012641</td>\n",
       "      <td>...</td>\n",
       "      <td>0.71120</td>\n",
       "      <td>0.45641</td>\n",
       "      <td>0.32606</td>\n",
       "      <td>1.43569</td>\n",
       "      <td>0.63786</td>\n",
       "      <td>0.36858</td>\n",
       "      <td>0.33902</td>\n",
       "      <td>1</td>\n",
       "      <td>0</td>\n",
       "      <td>0</td>\n",
       "    </tr>\n",
       "  </tbody>\n",
       "</table>\n",
       "<p>5 rows × 126 columns</p>\n",
       "</div>"
      ],
      "text/plain": [
       "                           z      zErr  zWarning     subClass    velDisp  \\\n",
       "specObjID                                                                  \n",
       "537174960955746304  0.120811  0.000022         0          NaN  217.59020   \n",
       "963908897964320768  0.184984  0.000056         0          NaN  216.62740   \n",
       "963899002359670784  0.123085  0.000024         0          NaN  125.84820   \n",
       "650881510949283840  0.033447  0.000016         0  STARFORMING   69.24703   \n",
       "476422542035281920  0.115328  0.000017         0          NaN   81.90747   \n",
       "\n",
       "                    velDispErr          ra        dec     raErr    decErr  \\\n",
       "specObjID                                                                   \n",
       "537174960955746304    10.25926  144.493971   2.210449  0.006186  0.005806   \n",
       "963908897964320768    20.39831  209.490025   5.283101  0.010478  0.010642   \n",
       "963899002359670784    18.16804  209.532566   5.248963  0.013511  0.018933   \n",
       "650881510949283840    35.04654  160.169765   5.365856  0.057035  0.051051   \n",
       "476422542035281920    21.27902   19.808034  15.684047  0.021823  0.012641   \n",
       "\n",
       "                    ...  modelColor_gr  modelColor_ri  modelColor_iz  \\\n",
       "specObjID           ...                                                \n",
       "537174960955746304  ...        1.06015        0.46939        0.36341   \n",
       "963908897964320768  ...        1.29482        0.48549        0.34711   \n",
       "963899002359670784  ...        0.72718        0.40336        0.23817   \n",
       "650881510949283840  ...        0.46788        0.30681        0.16218   \n",
       "476422542035281920  ...        0.71120        0.45641        0.32606   \n",
       "\n",
       "                    petroColor_ug  petroColor_gr  petroColor_ri  \\\n",
       "specObjID                                                         \n",
       "537174960955746304        2.14849        1.02347        0.46319   \n",
       "963908897964320768        1.21057        1.32124        0.42321   \n",
       "963899002359670784        1.03001        0.63254        0.33633   \n",
       "650881510949283840        1.88227        0.29779        0.35605   \n",
       "476422542035281920        1.43569        0.63786        0.36858   \n",
       "\n",
       "                    petroColor_iz  spiral  elliptical  uncertain  \n",
       "specObjID                                                         \n",
       "537174960955746304        0.37277       0           0          1  \n",
       "963908897964320768        0.32182       0           0          1  \n",
       "963899002359670784        0.07673       0           0          1  \n",
       "650881510949283840        0.06031       0           0          1  \n",
       "476422542035281920        0.33902       1           0          0  \n",
       "\n",
       "[5 rows x 126 columns]"
      ]
     },
     "execution_count": 11,
     "metadata": {},
     "output_type": "execute_result"
    }
   ],
   "source": [
    "dd.head()"
   ]
  },
  {
   "cell_type": "markdown",
   "metadata": {},
   "source": [
    " **1 - Análisis general**"
   ]
  },
  {
   "cell_type": "markdown",
   "metadata": {},
   "source": [
    " * Describir el conjunto de datos. Tratamiento de datos faltantes, outliers, datos repetidos."
   ]
  },
  {
   "cell_type": "code",
   "execution_count": 12,
   "metadata": {},
   "outputs": [
    {
     "data": {
      "text/plain": [
       "(5000, 126)"
      ]
     },
     "execution_count": 12,
     "metadata": {},
     "output_type": "execute_result"
    }
   ],
   "source": [
    "dd.shape"
   ]
  },
  {
   "cell_type": "code",
   "execution_count": 13,
   "metadata": {},
   "outputs": [
    {
     "data": {
      "text/html": [
       "<div>\n",
       "<style scoped>\n",
       "    .dataframe tbody tr th:only-of-type {\n",
       "        vertical-align: middle;\n",
       "    }\n",
       "\n",
       "    .dataframe tbody tr th {\n",
       "        vertical-align: top;\n",
       "    }\n",
       "\n",
       "    .dataframe thead th {\n",
       "        text-align: right;\n",
       "    }\n",
       "</style>\n",
       "<table border=\"1\" class=\"dataframe\">\n",
       "  <thead>\n",
       "    <tr style=\"text-align: right;\">\n",
       "      <th></th>\n",
       "      <th>z</th>\n",
       "      <th>zErr</th>\n",
       "      <th>zWarning</th>\n",
       "      <th>velDisp</th>\n",
       "      <th>velDispErr</th>\n",
       "      <th>ra</th>\n",
       "      <th>dec</th>\n",
       "      <th>raErr</th>\n",
       "      <th>decErr</th>\n",
       "      <th>modelMag_u</th>\n",
       "      <th>...</th>\n",
       "      <th>modelColor_gr</th>\n",
       "      <th>modelColor_ri</th>\n",
       "      <th>modelColor_iz</th>\n",
       "      <th>petroColor_ug</th>\n",
       "      <th>petroColor_gr</th>\n",
       "      <th>petroColor_ri</th>\n",
       "      <th>petroColor_iz</th>\n",
       "      <th>spiral</th>\n",
       "      <th>elliptical</th>\n",
       "      <th>uncertain</th>\n",
       "    </tr>\n",
       "  </thead>\n",
       "  <tbody>\n",
       "    <tr>\n",
       "      <th>count</th>\n",
       "      <td>5000.000000</td>\n",
       "      <td>5000.000000</td>\n",
       "      <td>5000.000000</td>\n",
       "      <td>5000.000000</td>\n",
       "      <td>5000.000000</td>\n",
       "      <td>5000.000000</td>\n",
       "      <td>5000.000000</td>\n",
       "      <td>5000.000000</td>\n",
       "      <td>5000.000000</td>\n",
       "      <td>5000.000000</td>\n",
       "      <td>...</td>\n",
       "      <td>5000.000000</td>\n",
       "      <td>5000.000000</td>\n",
       "      <td>5000.000000</td>\n",
       "      <td>5000.000000</td>\n",
       "      <td>5000.000000</td>\n",
       "      <td>5000.000000</td>\n",
       "      <td>5000.000000</td>\n",
       "      <td>5000.00000</td>\n",
       "      <td>5000.000000</td>\n",
       "      <td>5000.000000</td>\n",
       "    </tr>\n",
       "    <tr>\n",
       "      <th>mean</th>\n",
       "      <td>0.106732</td>\n",
       "      <td>0.000021</td>\n",
       "      <td>0.016000</td>\n",
       "      <td>136.691611</td>\n",
       "      <td>14.852510</td>\n",
       "      <td>184.204791</td>\n",
       "      <td>25.125391</td>\n",
       "      <td>0.016671</td>\n",
       "      <td>0.016180</td>\n",
       "      <td>19.539480</td>\n",
       "      <td>...</td>\n",
       "      <td>0.861998</td>\n",
       "      <td>0.416104</td>\n",
       "      <td>0.291464</td>\n",
       "      <td>1.621112</td>\n",
       "      <td>0.838083</td>\n",
       "      <td>0.392417</td>\n",
       "      <td>0.243401</td>\n",
       "      <td>0.28880</td>\n",
       "      <td>0.099800</td>\n",
       "      <td>0.611400</td>\n",
       "    </tr>\n",
       "    <tr>\n",
       "      <th>std</th>\n",
       "      <td>0.054623</td>\n",
       "      <td>0.000013</td>\n",
       "      <td>0.466248</td>\n",
       "      <td>75.595506</td>\n",
       "      <td>19.427326</td>\n",
       "      <td>57.759337</td>\n",
       "      <td>18.694276</td>\n",
       "      <td>0.041910</td>\n",
       "      <td>0.033692</td>\n",
       "      <td>1.076405</td>\n",
       "      <td>...</td>\n",
       "      <td>0.317552</td>\n",
       "      <td>0.189060</td>\n",
       "      <td>0.224183</td>\n",
       "      <td>0.777162</td>\n",
       "      <td>0.305624</td>\n",
       "      <td>0.226851</td>\n",
       "      <td>0.314662</td>\n",
       "      <td>0.45325</td>\n",
       "      <td>0.299763</td>\n",
       "      <td>0.487481</td>\n",
       "    </tr>\n",
       "    <tr>\n",
       "      <th>min</th>\n",
       "      <td>0.010423</td>\n",
       "      <td>0.000003</td>\n",
       "      <td>0.000000</td>\n",
       "      <td>0.000000</td>\n",
       "      <td>-3.000000</td>\n",
       "      <td>0.001718</td>\n",
       "      <td>-11.179560</td>\n",
       "      <td>0.001259</td>\n",
       "      <td>0.001218</td>\n",
       "      <td>15.335180</td>\n",
       "      <td>...</td>\n",
       "      <td>-5.642810</td>\n",
       "      <td>-3.172070</td>\n",
       "      <td>-6.301100</td>\n",
       "      <td>-6.913450</td>\n",
       "      <td>-6.157660</td>\n",
       "      <td>-10.833440</td>\n",
       "      <td>-9.160190</td>\n",
       "      <td>0.00000</td>\n",
       "      <td>0.000000</td>\n",
       "      <td>0.000000</td>\n",
       "    </tr>\n",
       "    <tr>\n",
       "      <th>25%</th>\n",
       "      <td>0.066716</td>\n",
       "      <td>0.000011</td>\n",
       "      <td>0.000000</td>\n",
       "      <td>84.571003</td>\n",
       "      <td>9.171935</td>\n",
       "      <td>150.622355</td>\n",
       "      <td>10.275177</td>\n",
       "      <td>0.005682</td>\n",
       "      <td>0.005586</td>\n",
       "      <td>18.939248</td>\n",
       "      <td>...</td>\n",
       "      <td>0.684655</td>\n",
       "      <td>0.376722</td>\n",
       "      <td>0.251500</td>\n",
       "      <td>1.244755</td>\n",
       "      <td>0.649635</td>\n",
       "      <td>0.354535</td>\n",
       "      <td>0.187820</td>\n",
       "      <td>0.00000</td>\n",
       "      <td>0.000000</td>\n",
       "      <td>0.000000</td>\n",
       "    </tr>\n",
       "    <tr>\n",
       "      <th>50%</th>\n",
       "      <td>0.100656</td>\n",
       "      <td>0.000019</td>\n",
       "      <td>0.000000</td>\n",
       "      <td>131.921400</td>\n",
       "      <td>12.240650</td>\n",
       "      <td>184.413855</td>\n",
       "      <td>23.384139</td>\n",
       "      <td>0.008408</td>\n",
       "      <td>0.008254</td>\n",
       "      <td>19.595610</td>\n",
       "      <td>...</td>\n",
       "      <td>0.878720</td>\n",
       "      <td>0.424330</td>\n",
       "      <td>0.314960</td>\n",
       "      <td>1.539845</td>\n",
       "      <td>0.847500</td>\n",
       "      <td>0.406400</td>\n",
       "      <td>0.270980</td>\n",
       "      <td>0.00000</td>\n",
       "      <td>0.000000</td>\n",
       "      <td>1.000000</td>\n",
       "    </tr>\n",
       "    <tr>\n",
       "      <th>75%</th>\n",
       "      <td>0.138991</td>\n",
       "      <td>0.000028</td>\n",
       "      <td>0.000000</td>\n",
       "      <td>182.166950</td>\n",
       "      <td>16.379272</td>\n",
       "      <td>219.592476</td>\n",
       "      <td>39.191761</td>\n",
       "      <td>0.015174</td>\n",
       "      <td>0.015143</td>\n",
       "      <td>20.245438</td>\n",
       "      <td>...</td>\n",
       "      <td>1.034527</td>\n",
       "      <td>0.467097</td>\n",
       "      <td>0.355032</td>\n",
       "      <td>1.817260</td>\n",
       "      <td>1.006263</td>\n",
       "      <td>0.449853</td>\n",
       "      <td>0.326592</td>\n",
       "      <td>1.00000</td>\n",
       "      <td>0.000000</td>\n",
       "      <td>1.000000</td>\n",
       "    </tr>\n",
       "    <tr>\n",
       "      <th>max</th>\n",
       "      <td>0.746932</td>\n",
       "      <td>0.000305</td>\n",
       "      <td>16.000000</td>\n",
       "      <td>850.000000</td>\n",
       "      <td>1131.371000</td>\n",
       "      <td>359.995051</td>\n",
       "      <td>69.241324</td>\n",
       "      <td>1.817576</td>\n",
       "      <td>0.789803</td>\n",
       "      <td>28.112870</td>\n",
       "      <td>...</td>\n",
       "      <td>6.407680</td>\n",
       "      <td>7.526770</td>\n",
       "      <td>4.397010</td>\n",
       "      <td>16.659360</td>\n",
       "      <td>6.369250</td>\n",
       "      <td>6.933700</td>\n",
       "      <td>10.373380</td>\n",
       "      <td>1.00000</td>\n",
       "      <td>1.000000</td>\n",
       "      <td>1.000000</td>\n",
       "    </tr>\n",
       "  </tbody>\n",
       "</table>\n",
       "<p>8 rows × 125 columns</p>\n",
       "</div>"
      ],
      "text/plain": [
       "                 z         zErr     zWarning      velDisp   velDispErr  \\\n",
       "count  5000.000000  5000.000000  5000.000000  5000.000000  5000.000000   \n",
       "mean      0.106732     0.000021     0.016000   136.691611    14.852510   \n",
       "std       0.054623     0.000013     0.466248    75.595506    19.427326   \n",
       "min       0.010423     0.000003     0.000000     0.000000    -3.000000   \n",
       "25%       0.066716     0.000011     0.000000    84.571003     9.171935   \n",
       "50%       0.100656     0.000019     0.000000   131.921400    12.240650   \n",
       "75%       0.138991     0.000028     0.000000   182.166950    16.379272   \n",
       "max       0.746932     0.000305    16.000000   850.000000  1131.371000   \n",
       "\n",
       "                ra          dec        raErr       decErr   modelMag_u  ...  \\\n",
       "count  5000.000000  5000.000000  5000.000000  5000.000000  5000.000000  ...   \n",
       "mean    184.204791    25.125391     0.016671     0.016180    19.539480  ...   \n",
       "std      57.759337    18.694276     0.041910     0.033692     1.076405  ...   \n",
       "min       0.001718   -11.179560     0.001259     0.001218    15.335180  ...   \n",
       "25%     150.622355    10.275177     0.005682     0.005586    18.939248  ...   \n",
       "50%     184.413855    23.384139     0.008408     0.008254    19.595610  ...   \n",
       "75%     219.592476    39.191761     0.015174     0.015143    20.245438  ...   \n",
       "max     359.995051    69.241324     1.817576     0.789803    28.112870  ...   \n",
       "\n",
       "       modelColor_gr  modelColor_ri  modelColor_iz  petroColor_ug  \\\n",
       "count    5000.000000    5000.000000    5000.000000    5000.000000   \n",
       "mean        0.861998       0.416104       0.291464       1.621112   \n",
       "std         0.317552       0.189060       0.224183       0.777162   \n",
       "min        -5.642810      -3.172070      -6.301100      -6.913450   \n",
       "25%         0.684655       0.376722       0.251500       1.244755   \n",
       "50%         0.878720       0.424330       0.314960       1.539845   \n",
       "75%         1.034527       0.467097       0.355032       1.817260   \n",
       "max         6.407680       7.526770       4.397010      16.659360   \n",
       "\n",
       "       petroColor_gr  petroColor_ri  petroColor_iz      spiral   elliptical  \\\n",
       "count    5000.000000    5000.000000    5000.000000  5000.00000  5000.000000   \n",
       "mean        0.838083       0.392417       0.243401     0.28880     0.099800   \n",
       "std         0.305624       0.226851       0.314662     0.45325     0.299763   \n",
       "min        -6.157660     -10.833440      -9.160190     0.00000     0.000000   \n",
       "25%         0.649635       0.354535       0.187820     0.00000     0.000000   \n",
       "50%         0.847500       0.406400       0.270980     0.00000     0.000000   \n",
       "75%         1.006263       0.449853       0.326592     1.00000     0.000000   \n",
       "max         6.369250       6.933700      10.373380     1.00000     1.000000   \n",
       "\n",
       "         uncertain  \n",
       "count  5000.000000  \n",
       "mean      0.611400  \n",
       "std       0.487481  \n",
       "min       0.000000  \n",
       "25%       0.000000  \n",
       "50%       1.000000  \n",
       "75%       1.000000  \n",
       "max       1.000000  \n",
       "\n",
       "[8 rows x 125 columns]"
      ]
     },
     "execution_count": 13,
     "metadata": {},
     "output_type": "execute_result"
    }
   ],
   "source": [
    "dd.describe()"
   ]
  },
  {
   "cell_type": "code",
   "execution_count": 26,
   "metadata": {},
   "outputs": [
    {
     "data": {
      "text/html": [
       "<div>\n",
       "<style scoped>\n",
       "    .dataframe tbody tr th:only-of-type {\n",
       "        vertical-align: middle;\n",
       "    }\n",
       "\n",
       "    .dataframe tbody tr th {\n",
       "        vertical-align: top;\n",
       "    }\n",
       "\n",
       "    .dataframe thead th {\n",
       "        text-align: right;\n",
       "    }\n",
       "</style>\n",
       "<table border=\"1\" class=\"dataframe\">\n",
       "  <thead>\n",
       "    <tr style=\"text-align: right;\">\n",
       "      <th></th>\n",
       "      <th>Total missing Values</th>\n",
       "    </tr>\n",
       "  </thead>\n",
       "  <tbody>\n",
       "    <tr>\n",
       "      <th>z</th>\n",
       "      <td>0</td>\n",
       "    </tr>\n",
       "    <tr>\n",
       "      <th>zErr</th>\n",
       "      <td>0</td>\n",
       "    </tr>\n",
       "    <tr>\n",
       "      <th>zWarning</th>\n",
       "      <td>0</td>\n",
       "    </tr>\n",
       "    <tr>\n",
       "      <th>subClass</th>\n",
       "      <td>2929</td>\n",
       "    </tr>\n",
       "    <tr>\n",
       "      <th>velDisp</th>\n",
       "      <td>0</td>\n",
       "    </tr>\n",
       "    <tr>\n",
       "      <th>...</th>\n",
       "      <td>...</td>\n",
       "    </tr>\n",
       "    <tr>\n",
       "      <th>petroColor_ri</th>\n",
       "      <td>0</td>\n",
       "    </tr>\n",
       "    <tr>\n",
       "      <th>petroColor_iz</th>\n",
       "      <td>0</td>\n",
       "    </tr>\n",
       "    <tr>\n",
       "      <th>spiral</th>\n",
       "      <td>0</td>\n",
       "    </tr>\n",
       "    <tr>\n",
       "      <th>elliptical</th>\n",
       "      <td>0</td>\n",
       "    </tr>\n",
       "    <tr>\n",
       "      <th>uncertain</th>\n",
       "      <td>0</td>\n",
       "    </tr>\n",
       "  </tbody>\n",
       "</table>\n",
       "<p>126 rows × 1 columns</p>\n",
       "</div>"
      ],
      "text/plain": [
       "               Total missing Values\n",
       "z                                 0\n",
       "zErr                              0\n",
       "zWarning                          0\n",
       "subClass                       2929\n",
       "velDisp                           0\n",
       "...                             ...\n",
       "petroColor_ri                     0\n",
       "petroColor_iz                     0\n",
       "spiral                            0\n",
       "elliptical                        0\n",
       "uncertain                         0\n",
       "\n",
       "[126 rows x 1 columns]"
      ]
     },
     "execution_count": 26,
     "metadata": {},
     "output_type": "execute_result"
    }
   ],
   "source": [
    "def total_missings_table(dataset):\n",
    "    variables = []\n",
    "    missings = []\n",
    "    relevance = []\n",
    "    for i in list(dataset.columns):\n",
    "        variables.append(i)\n",
    "        missings.append(dataset[i].isnull().sum())\n",
    "        relevance.append(len(dataset[i].dropna())/len(dataset[i]))\n",
    "    table = pd.DataFrame(data = missings, index = variables)\n",
    "    table.columns = ['Total missing Values']\n",
    "    return(table)\n",
    "total_missings_table(dd)"
   ]
  },
  {
   "cell_type": "code",
   "execution_count": 15,
   "metadata": {},
   "outputs": [],
   "source": [
    "def outliers(dataset, column):\n",
    "    outliers_column = dataset[dataset[column] > (dataset[column].mean + 3 * dataset[column].std()) ]\n",
    "    return(outliers_column)"
   ]
  },
  {
   "cell_type": "code",
   "execution_count": 16,
   "metadata": {},
   "outputs": [
    {
     "data": {
      "text/html": [
       "<div>\n",
       "<style scoped>\n",
       "    .dataframe tbody tr th:only-of-type {\n",
       "        vertical-align: middle;\n",
       "    }\n",
       "\n",
       "    .dataframe tbody tr th {\n",
       "        vertical-align: top;\n",
       "    }\n",
       "\n",
       "    .dataframe thead th {\n",
       "        text-align: right;\n",
       "    }\n",
       "</style>\n",
       "<table border=\"1\" class=\"dataframe\">\n",
       "  <thead>\n",
       "    <tr style=\"text-align: right;\">\n",
       "      <th></th>\n",
       "      <th>z</th>\n",
       "      <th>zErr</th>\n",
       "      <th>zWarning</th>\n",
       "      <th>subClass</th>\n",
       "      <th>velDisp</th>\n",
       "      <th>velDispErr</th>\n",
       "      <th>ra</th>\n",
       "      <th>dec</th>\n",
       "      <th>raErr</th>\n",
       "      <th>decErr</th>\n",
       "      <th>...</th>\n",
       "      <th>modelColor_gr</th>\n",
       "      <th>modelColor_ri</th>\n",
       "      <th>modelColor_iz</th>\n",
       "      <th>petroColor_ug</th>\n",
       "      <th>petroColor_gr</th>\n",
       "      <th>petroColor_ri</th>\n",
       "      <th>petroColor_iz</th>\n",
       "      <th>spiral</th>\n",
       "      <th>elliptical</th>\n",
       "      <th>uncertain</th>\n",
       "    </tr>\n",
       "    <tr>\n",
       "      <th>specObjID</th>\n",
       "      <th></th>\n",
       "      <th></th>\n",
       "      <th></th>\n",
       "      <th></th>\n",
       "      <th></th>\n",
       "      <th></th>\n",
       "      <th></th>\n",
       "      <th></th>\n",
       "      <th></th>\n",
       "      <th></th>\n",
       "      <th></th>\n",
       "      <th></th>\n",
       "      <th></th>\n",
       "      <th></th>\n",
       "      <th></th>\n",
       "      <th></th>\n",
       "      <th></th>\n",
       "      <th></th>\n",
       "      <th></th>\n",
       "      <th></th>\n",
       "      <th></th>\n",
       "    </tr>\n",
       "  </thead>\n",
       "  <tbody>\n",
       "  </tbody>\n",
       "</table>\n",
       "<p>0 rows × 126 columns</p>\n",
       "</div>"
      ],
      "text/plain": [
       "Empty DataFrame\n",
       "Columns: [z, zErr, zWarning, subClass, velDisp, velDispErr, ra, dec, raErr, decErr, modelMag_u, modelMag_g, modelMag_r, modelMag_i, modelMag_z, modelMagErr_u, modelMagErr_g, modelMagErr_r, modelMagErr_i, modelMagErr_z, petroMag_u, petroMag_g, petroMag_r, petroMag_i, petroMag_z, petroMagErr_u, petroMagErr_g, petroMagErr_r, petroMagErr_i, petroMagErr_z, petroRad_u, petroRad_g, petroRad_r, petroRad_i, petroRad_z, petroRadErr_u, petroRadErr_g, petroRadErr_r, petroRadErr_i, petroRadErr_z, petroR50_u, petroR50_g, petroR50_r, petroR50_i, petroR50_z, petroR50Err_u, petroR50Err_g, petroR50Err_r, petroR50Err_i, petroR50Err_z, petroR90_u, petroR90_g, petroR90_r, petroR90_i, petroR90_z, petroR90Err_u, petroR90Err_g, petroR90Err_r, petroR90Err_i, petroR90Err_z, deVRad_u, deVRad_g, deVRad_r, deVRad_i, deVRad_z, deVRadErr_u, deVRadErr_g, deVRadErr_r, deVRadErr_i, deVRadErr_z, deVAB_u, deVAB_g, deVAB_r, deVAB_i, deVAB_z, deVABErr_u, deVABErr_g, deVABErr_r, deVABErr_i, deVABErr_z, deVPhi_u, deVPhi_g, deVPhi_r, deVPhi_i, deVPhi_z, expRad_u, expRad_g, expRad_r, expRad_i, expRad_z, expRadErr_u, expRadErr_g, expRadErr_r, expRadErr_i, expRadErr_z, expAB_u, expAB_g, expAB_r, expAB_i, expAB_z, ...]\n",
       "Index: []\n",
       "\n",
       "[0 rows x 126 columns]"
      ]
     },
     "execution_count": 16,
     "metadata": {},
     "output_type": "execute_result"
    }
   ],
   "source": [
    "dd[dd.index.duplicated(keep=False)]"
   ]
  },
  {
   "cell_type": "markdown",
   "metadata": {},
   "source": [
    "No hay índices duplicados"
   ]
  },
  {
   "cell_type": "markdown",
   "metadata": {},
   "source": [
    " * Considerando el objetivo pricipal de la mentoría, cuáles creen que serían las variables más importantes a considerar?\n",
    " * Implementar herramientas en pos de la reproducibilidad de resultados."
   ]
  },
  {
   "cell_type": "markdown",
   "metadata": {},
   "source": [
    "**2 - Análisis estadístico** \n",
    "  * Nos ha contado el especialista que del proceso de adquisición de los mismos se asegura que los datos son correctos y/o completos para aquellos objetos que tienen Magnitudes Pretosian en la banda r entre 14.5 y 17.77. Incluyan esta selección en su análisis."
   ]
  },
  {
   "cell_type": "code",
   "execution_count": 54,
   "metadata": {},
   "outputs": [],
   "source": [
    "dd = dd[(dd.petroMag_r>=14.5) & (dd.petroMag_r<=17.77)]"
   ]
  },
  {
   "cell_type": "markdown",
   "metadata": {},
   "source": [
    " * Explorar la base de datos en búsqueda de datos repetidos, en caso de hallarlos elegir la estrategia para su limpieza."
   ]
  },
  {
   "cell_type": "markdown",
   "metadata": {},
   "source": [
    " * Dado que los datos son recolectados a través de mapeos sucesivos del cielo es posible que una galaxia sea observada más de una vez, y en cada observación se le asigne un ID diferente. Propongan una idea para defectar la base de datos de este problema.\n",
    "     * **Extra**: el especialista en datos no confía en objetos que tengan una separación angular con otro objeto menor a 1\" de arco. Intenten limpiar los datos empleando este criterio."
   ]
  },
  {
   "cell_type": "markdown",
   "metadata": {},
   "source": [
    "Una forma para detectar si una galaxia ha sido observada más de una vez puede ser buscar valores repetidos en las variables de interés. Sin embargo, esto puede no ser la mejor estrategia porque cada variable de interés tiene asociada una medición de error. Por lo tanto, es posible que esta medición de error se esté llevando parte de la variable de interés provocando que una variable para la misma galaxia no sea exactamente igual. En este caso, con esta técnica podríamos \"subdetectar\" galaxias medidas más de una vez.\n",
    "Por lo tanto, vamos a detectar las galaxias medidas más de una vez desconfiando de aquellos objetos que tengan una separación angular con otro objeto menor a 1\" de arco. "
   ]
  },
  {
   "cell_type": "markdown",
   "metadata": {},
   "source": [
    "Fórmula Separación Angular"
   ]
  },
  {
   "cell_type": "markdown",
   "metadata": {},
   "source": [
    "${\\displaystyle \\theta =\\arccos {\\Big [}\\sin(\\delta _{1})\\sin(\\delta _{2})+\\cos(\\delta _{1})\\cos(\\delta _{2})\\cos(\\alpha _{1}-\\alpha _{2}){\\Big ]}}$"
   ]
  },
  {
   "cell_type": "markdown",
   "metadata": {},
   "source": [
    "donde ${\\displaystyle \\alpha }$ son ascensiones rectas (ra) y ${\\displaystyle \\delta }$ son las declinaciones (dec) (Coordenadas ecuatoriales) expresados en ángulos de la forma ${\\displaystyle \\alpha \\in [0,2\\pi ]}$ y ${\\displaystyle \\delta \\in [-\\pi /2,\\pi /2]}$ "
   ]
  },
  {
   "cell_type": "markdown",
   "metadata": {},
   "source": [
    "* 1) Forma más eficiente"
   ]
  },
  {
   "cell_type": "code",
   "execution_count": 62,
   "metadata": {},
   "outputs": [
    {
     "ename": "MemoryError",
     "evalue": "",
     "output_type": "error",
     "traceback": [
      "\u001b[1;31m---------------------------------------------------------------------------\u001b[0m",
      "\u001b[1;31mMemoryError\u001b[0m                               Traceback (most recent call last)",
      "\u001b[1;32m<ipython-input-62-1f431100fac6>\u001b[0m in \u001b[0;36m<module>\u001b[1;34m\u001b[0m\n\u001b[0;32m      1\u001b[0m \u001b[1;32mimport\u001b[0m \u001b[0mitertools\u001b[0m\u001b[1;33m\u001b[0m\u001b[1;33m\u001b[0m\u001b[0m\n\u001b[1;32m----> 2\u001b[1;33m \u001b[0mindexes\u001b[0m \u001b[1;33m=\u001b[0m \u001b[0mlist\u001b[0m\u001b[1;33m(\u001b[0m\u001b[0mitertools\u001b[0m\u001b[1;33m.\u001b[0m\u001b[0mcombinations\u001b[0m\u001b[1;33m(\u001b[0m\u001b[0mlist\u001b[0m\u001b[1;33m(\u001b[0m\u001b[0mdd\u001b[0m\u001b[1;33m.\u001b[0m\u001b[0mindex\u001b[0m\u001b[1;33m)\u001b[0m\u001b[1;33m,\u001b[0m\u001b[1;36m2\u001b[0m\u001b[1;33m)\u001b[0m\u001b[1;33m)\u001b[0m\u001b[1;33m\u001b[0m\u001b[1;33m\u001b[0m\u001b[0m\n\u001b[0m\u001b[0;32m      3\u001b[0m \u001b[0mnodos\u001b[0m \u001b[1;33m=\u001b[0m \u001b[1;33m[\u001b[0m\u001b[1;33m]\u001b[0m\u001b[1;33m\u001b[0m\u001b[1;33m\u001b[0m\u001b[0m\n\u001b[0;32m      4\u001b[0m \u001b[1;32mfor\u001b[0m \u001b[0mi\u001b[0m\u001b[1;33m,\u001b[0m\u001b[0mj\u001b[0m \u001b[1;32min\u001b[0m \u001b[0mindexes\u001b[0m\u001b[1;33m:\u001b[0m\u001b[1;33m\u001b[0m\u001b[1;33m\u001b[0m\u001b[0m\n\u001b[0;32m      5\u001b[0m     \u001b[0mra_i\u001b[0m \u001b[1;33m=\u001b[0m \u001b[0mfloat\u001b[0m\u001b[1;33m(\u001b[0m\u001b[0mdd\u001b[0m\u001b[1;33m.\u001b[0m\u001b[0mra\u001b[0m\u001b[1;33m[\u001b[0m\u001b[0mdd\u001b[0m\u001b[1;33m.\u001b[0m\u001b[0mindex\u001b[0m \u001b[1;33m==\u001b[0m \u001b[0mi\u001b[0m\u001b[1;33m]\u001b[0m\u001b[1;33m)\u001b[0m\u001b[1;33m\u001b[0m\u001b[1;33m\u001b[0m\u001b[0m\n",
      "\u001b[1;31mMemoryError\u001b[0m: "
     ]
    }
   ],
   "source": [
    "import itertools\n",
    "indexes = list(itertools.combinations(list(dd.index),2))\n",
    "tuples = []\n",
    "for i,j in indexes:\n",
    "    ra_i = float(dd.ra[dd.index == i]) \n",
    "    ra_j = float(dd.ra[dd.index == j])\n",
    "    dec_i = float(dd.dec[dd.index == i])\n",
    "    dec_j = float(dd.dec[dd.index == j])\n",
    "    theta = np.arccos( np.sin(dec_i) * np.sin(dec_j) + np.cos(dec_i)*np.cos(dec_j)*np.cos(ra_i - ra_j))\n",
    "    if (1/3600)*theta < 1:\n",
    "        tuples.append((i,j))\n",
    "    else: continue\n",
    "tuples = []"
   ]
  },
  {
   "cell_type": "code",
   "execution_count": null,
   "metadata": {},
   "outputs": [],
   "source": [
    "repeated = []\n",
    "for i,j in tuples:\n",
    "    if j not in repeated:\n",
    "        repeated.append(j)\n",
    "    else: continue\n",
    "repeated"
   ]
  },
  {
   "cell_type": "code",
   "execution_count": null,
   "metadata": {},
   "outputs": [],
   "source": [
    "dd = dd.drop(index = repeated)"
   ]
  },
  {
   "cell_type": "markdown",
   "metadata": {},
   "source": [
    "* 2) Forma menos eficiente (armando un grafo)"
   ]
  },
  {
   "cell_type": "code",
   "execution_count": 42,
   "metadata": {
    "jupyter": {
     "source_hidden": true
    }
   },
   "outputs": [
    {
     "ename": "KeyboardInterrupt",
     "evalue": "",
     "output_type": "error",
     "traceback": [
      "\u001b[1;31m---------------------------------------------------------------------------\u001b[0m",
      "\u001b[1;31mKeyboardInterrupt\u001b[0m                         Traceback (most recent call last)",
      "\u001b[1;32m<ipython-input-42-a80838cd5fdb>\u001b[0m in \u001b[0;36m<module>\u001b[1;34m\u001b[0m\n\u001b[0;32m      6\u001b[0m         \u001b[1;32melse\u001b[0m\u001b[1;33m:\u001b[0m\u001b[1;33m\u001b[0m\u001b[1;33m\u001b[0m\u001b[0m\n\u001b[0;32m      7\u001b[0m             \u001b[0mra_i\u001b[0m \u001b[1;33m=\u001b[0m \u001b[0mfloat\u001b[0m\u001b[1;33m(\u001b[0m\u001b[0mdd\u001b[0m\u001b[1;33m.\u001b[0m\u001b[0mra\u001b[0m\u001b[1;33m[\u001b[0m\u001b[0mdd\u001b[0m\u001b[1;33m.\u001b[0m\u001b[0mindex\u001b[0m \u001b[1;33m==\u001b[0m \u001b[0mi\u001b[0m\u001b[1;33m]\u001b[0m\u001b[1;33m)\u001b[0m\u001b[1;33m\u001b[0m\u001b[1;33m\u001b[0m\u001b[0m\n\u001b[1;32m----> 8\u001b[1;33m             \u001b[0mra_j\u001b[0m \u001b[1;33m=\u001b[0m \u001b[0mfloat\u001b[0m\u001b[1;33m(\u001b[0m\u001b[0mdd\u001b[0m\u001b[1;33m.\u001b[0m\u001b[0mra\u001b[0m\u001b[1;33m[\u001b[0m\u001b[0mdd\u001b[0m\u001b[1;33m.\u001b[0m\u001b[0mindex\u001b[0m \u001b[1;33m==\u001b[0m \u001b[0mj\u001b[0m\u001b[1;33m]\u001b[0m\u001b[1;33m)\u001b[0m\u001b[1;33m\u001b[0m\u001b[1;33m\u001b[0m\u001b[0m\n\u001b[0m\u001b[0;32m      9\u001b[0m             \u001b[0mdec_i\u001b[0m \u001b[1;33m=\u001b[0m \u001b[0mfloat\u001b[0m\u001b[1;33m(\u001b[0m\u001b[0mdd\u001b[0m\u001b[1;33m.\u001b[0m\u001b[0mdec\u001b[0m\u001b[1;33m[\u001b[0m\u001b[0mdd\u001b[0m\u001b[1;33m.\u001b[0m\u001b[0mindex\u001b[0m \u001b[1;33m==\u001b[0m \u001b[0mi\u001b[0m\u001b[1;33m]\u001b[0m\u001b[1;33m)\u001b[0m\u001b[1;33m\u001b[0m\u001b[1;33m\u001b[0m\u001b[0m\n\u001b[0;32m     10\u001b[0m             \u001b[0mdec_j\u001b[0m \u001b[1;33m=\u001b[0m \u001b[0mfloat\u001b[0m\u001b[1;33m(\u001b[0m\u001b[0mdd\u001b[0m\u001b[1;33m.\u001b[0m\u001b[0mdec\u001b[0m\u001b[1;33m[\u001b[0m\u001b[0mdd\u001b[0m\u001b[1;33m.\u001b[0m\u001b[0mindex\u001b[0m \u001b[1;33m==\u001b[0m \u001b[0mj\u001b[0m\u001b[1;33m]\u001b[0m\u001b[1;33m)\u001b[0m\u001b[1;33m\u001b[0m\u001b[1;33m\u001b[0m\u001b[0m\n",
      "\u001b[1;32m~\\Anaconda3\\envs\\astrodatos\\lib\\site-packages\\pandas\\core\\indexes\\base.py\u001b[0m in \u001b[0;36mcmp_method\u001b[1;34m(self, other)\u001b[0m\n\u001b[0;32m    120\u001b[0m         \u001b[1;32melse\u001b[0m\u001b[1;33m:\u001b[0m\u001b[1;33m\u001b[0m\u001b[1;33m\u001b[0m\u001b[0m\n\u001b[0;32m    121\u001b[0m             \u001b[1;32mwith\u001b[0m \u001b[0mnp\u001b[0m\u001b[1;33m.\u001b[0m\u001b[0merrstate\u001b[0m\u001b[1;33m(\u001b[0m\u001b[0mall\u001b[0m\u001b[1;33m=\u001b[0m\u001b[1;34m\"ignore\"\u001b[0m\u001b[1;33m)\u001b[0m\u001b[1;33m:\u001b[0m\u001b[1;33m\u001b[0m\u001b[1;33m\u001b[0m\u001b[0m\n\u001b[1;32m--> 122\u001b[1;33m                 \u001b[0mresult\u001b[0m \u001b[1;33m=\u001b[0m \u001b[0mop\u001b[0m\u001b[1;33m(\u001b[0m\u001b[0mself\u001b[0m\u001b[1;33m.\u001b[0m\u001b[0mvalues\u001b[0m\u001b[1;33m,\u001b[0m \u001b[0mnp\u001b[0m\u001b[1;33m.\u001b[0m\u001b[0masarray\u001b[0m\u001b[1;33m(\u001b[0m\u001b[0mother\u001b[0m\u001b[1;33m)\u001b[0m\u001b[1;33m)\u001b[0m\u001b[1;33m\u001b[0m\u001b[1;33m\u001b[0m\u001b[0m\n\u001b[0m\u001b[0;32m    123\u001b[0m \u001b[1;33m\u001b[0m\u001b[0m\n\u001b[0;32m    124\u001b[0m         \u001b[1;32mif\u001b[0m \u001b[0mis_bool_dtype\u001b[0m\u001b[1;33m(\u001b[0m\u001b[0mresult\u001b[0m\u001b[1;33m)\u001b[0m\u001b[1;33m:\u001b[0m\u001b[1;33m\u001b[0m\u001b[1;33m\u001b[0m\u001b[0m\n",
      "\u001b[1;31mKeyboardInterrupt\u001b[0m: "
     ]
    }
   ],
   "source": [
    "nodos = []\n",
    "for i in dd.index:\n",
    "    for j in dd.index:\n",
    "        if i == j:\n",
    "            continue\n",
    "        else:\n",
    "            ra_i = float(dd.ra[dd.index == i]) \n",
    "            ra_j = float(dd.ra[dd.index == j])\n",
    "            dec_i = float(dd.dec[dd.index == i])\n",
    "            dec_j = float(dd.dec[dd.index == j])\n",
    "            theta = np.arccos( np.sin(dec_i)*np.sin(dec_j) + np.cos(dec_i)*np.cos(dec_j)*np.cos(ra_i - ra_j))\n",
    "            if (1/3600)*theta < 1:\n",
    "                nodos.append((i,j))\n",
    "            else: \n",
    "                continue\n",
    "nodos = []"
   ]
  },
  {
   "cell_type": "code",
   "execution_count": 93,
   "metadata": {
    "jupyter": {
     "source_hidden": true
    }
   },
   "outputs": [
    {
     "data": {
      "text/plain": [
       "37"
      ]
     },
     "execution_count": 93,
     "metadata": {},
     "output_type": "execute_result"
    }
   ],
   "source": [
    "grafo = dict()\n",
    "for x,y in nodos:\n",
    "    grafo.setdefault(x, []).append(y)\n",
    "len(grafo)"
   ]
  }
 ],
 "metadata": {
  "kernelspec": {
   "display_name": "Python [conda env:astrodatos] *",
   "language": "python",
   "name": "conda-env-astrodatos-py"
  },
  "language_info": {
   "codemirror_mode": {
    "name": "ipython",
    "version": 3
   },
   "file_extension": ".py",
   "mimetype": "text/x-python",
   "name": "python",
   "nbconvert_exporter": "python",
   "pygments_lexer": "ipython3",
   "version": "3.8.2"
  }
 },
 "nbformat": 4,
 "nbformat_minor": 4
}
