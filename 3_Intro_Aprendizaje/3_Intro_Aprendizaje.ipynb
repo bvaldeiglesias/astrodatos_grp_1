{
 "cells": [
  {
   "cell_type": "markdown",
   "metadata": {},
   "source": [
    "# Mapeando el Universo\n",
    "\n"
   ]
  },
  {
   "cell_type": "markdown",
   "metadata": {},
   "source": [
    "## Introducción al aprendizaje automático"
   ]
  },
  {
   "cell_type": "markdown",
   "metadata": {},
   "source": [
    "  * Tomar el dataset \"limpio\" obtenido del práctico anterior y considerar algunos de los siguientes conjuntos de variables\n",
    "  \n",
    "   + modelMag_*, colores_modelMag, devRad_*\n",
    "   + modelMag_*, colores_modelMag, expRad_*\n",
    "   + petroMag_*, colores_petroMag, petroRad_*, petroR50_*, petroR90_*\n",
    "  \n",
    "  * Emplear el modelo de regresión lineal para estimar la variables _redshift_.\n",
    "   + Considere utilizar o no regulación\n",
    "    \n",
    "  * Utilizar algún método para evaluar la complejidad del/de los modelo/s.\n",
    "  \n",
    "  * Evaluar que sucede si se distrimina por tipo de galaxia.\n",
    "  \n",
    "  * Emplear algunos (más de uno) de los modelos de clasificación (perceptrón, regresión logística, vecinos más cercanos) para clasificar las galaxias en elípticas y espirales a partir de las variables elegidas.\n",
    "  \n",
    "   + Computar las metricas accuracy,precision, recall, F1, matriz de confusión\n",
    " \n",
    "   + Visualización de la frontera de decisión\n",
    "   "
   ]
  },
  {
   "cell_type": "markdown",
   "metadata": {},
   "source": [
    "### Lectura de datos"
   ]
  },
  {
   "cell_type": "code",
   "execution_count": 1,
   "metadata": {},
   "outputs": [],
   "source": [
    "import warnings\n",
    "warnings.filterwarnings('ignore')"
   ]
  },
  {
   "cell_type": "code",
   "execution_count": 2,
   "metadata": {},
   "outputs": [],
   "source": [
    "import pandas as pd\n",
    "import numpy as np\n",
    "import matplotlib.pyplot as plt\n",
    "import seaborn as sns"
   ]
  },
  {
   "cell_type": "code",
   "execution_count": 3,
   "metadata": {},
   "outputs": [
    {
     "data": {
      "text/html": [
       "<div>\n",
       "<style scoped>\n",
       "    .dataframe tbody tr th:only-of-type {\n",
       "        vertical-align: middle;\n",
       "    }\n",
       "\n",
       "    .dataframe tbody tr th {\n",
       "        vertical-align: top;\n",
       "    }\n",
       "\n",
       "    .dataframe thead th {\n",
       "        text-align: right;\n",
       "    }\n",
       "</style>\n",
       "<table border=\"1\" class=\"dataframe\">\n",
       "  <thead>\n",
       "    <tr style=\"text-align: right;\">\n",
       "      <th></th>\n",
       "      <th>z</th>\n",
       "      <th>subClass_AGN</th>\n",
       "      <th>subClass_AGN BROADLINE</th>\n",
       "      <th>subClass_BROADLINE</th>\n",
       "      <th>subClass_STARBURST</th>\n",
       "      <th>subClass_STARBURST BROADLINE</th>\n",
       "      <th>subClass_STARFORMING</th>\n",
       "      <th>subClass_STARFORMING BROADLINE</th>\n",
       "      <th>subClass_UNKNOWN</th>\n",
       "      <th>velDisp</th>\n",
       "      <th>...</th>\n",
       "      <th>modelColor_gr</th>\n",
       "      <th>modelColor_ri</th>\n",
       "      <th>modelColor_iz</th>\n",
       "      <th>petroColor_ug</th>\n",
       "      <th>petroColor_gr</th>\n",
       "      <th>petroColor_ri</th>\n",
       "      <th>petroColor_iz</th>\n",
       "      <th>spiral</th>\n",
       "      <th>elliptical</th>\n",
       "      <th>uncertain</th>\n",
       "    </tr>\n",
       "    <tr>\n",
       "      <th>specObjID</th>\n",
       "      <th></th>\n",
       "      <th></th>\n",
       "      <th></th>\n",
       "      <th></th>\n",
       "      <th></th>\n",
       "      <th></th>\n",
       "      <th></th>\n",
       "      <th></th>\n",
       "      <th></th>\n",
       "      <th></th>\n",
       "      <th></th>\n",
       "      <th></th>\n",
       "      <th></th>\n",
       "      <th></th>\n",
       "      <th></th>\n",
       "      <th></th>\n",
       "      <th></th>\n",
       "      <th></th>\n",
       "      <th></th>\n",
       "      <th></th>\n",
       "      <th></th>\n",
       "    </tr>\n",
       "  </thead>\n",
       "  <tbody>\n",
       "    <tr>\n",
       "      <th>957075158303008768</th>\n",
       "      <td>0.012095</td>\n",
       "      <td>0</td>\n",
       "      <td>0</td>\n",
       "      <td>0</td>\n",
       "      <td>1</td>\n",
       "      <td>0</td>\n",
       "      <td>0</td>\n",
       "      <td>0</td>\n",
       "      <td>0</td>\n",
       "      <td>60.39996</td>\n",
       "      <td>...</td>\n",
       "      <td>0.25431</td>\n",
       "      <td>0.09500</td>\n",
       "      <td>0.11706</td>\n",
       "      <td>0.79000</td>\n",
       "      <td>0.35837</td>\n",
       "      <td>0.15143</td>\n",
       "      <td>0.10247</td>\n",
       "      <td>0.0</td>\n",
       "      <td>0.0</td>\n",
       "      <td>1.0</td>\n",
       "    </tr>\n",
       "    <tr>\n",
       "      <th>957066087332079616</th>\n",
       "      <td>0.141718</td>\n",
       "      <td>0</td>\n",
       "      <td>0</td>\n",
       "      <td>0</td>\n",
       "      <td>0</td>\n",
       "      <td>0</td>\n",
       "      <td>0</td>\n",
       "      <td>0</td>\n",
       "      <td>1</td>\n",
       "      <td>217.80020</td>\n",
       "      <td>...</td>\n",
       "      <td>1.07714</td>\n",
       "      <td>0.45090</td>\n",
       "      <td>0.35530</td>\n",
       "      <td>2.11901</td>\n",
       "      <td>1.03352</td>\n",
       "      <td>0.43049</td>\n",
       "      <td>0.27852</td>\n",
       "      <td>0.0</td>\n",
       "      <td>0.0</td>\n",
       "      <td>1.0</td>\n",
       "    </tr>\n",
       "    <tr>\n",
       "      <th>957065537576265728</th>\n",
       "      <td>0.140137</td>\n",
       "      <td>0</td>\n",
       "      <td>0</td>\n",
       "      <td>0</td>\n",
       "      <td>0</td>\n",
       "      <td>0</td>\n",
       "      <td>0</td>\n",
       "      <td>0</td>\n",
       "      <td>1</td>\n",
       "      <td>138.90830</td>\n",
       "      <td>...</td>\n",
       "      <td>0.85273</td>\n",
       "      <td>0.41891</td>\n",
       "      <td>0.31316</td>\n",
       "      <td>1.07275</td>\n",
       "      <td>0.76730</td>\n",
       "      <td>0.36148</td>\n",
       "      <td>0.22301</td>\n",
       "      <td>1.0</td>\n",
       "      <td>0.0</td>\n",
       "      <td>0.0</td>\n",
       "    </tr>\n",
       "    <tr>\n",
       "      <th>957066911965800448</th>\n",
       "      <td>0.066672</td>\n",
       "      <td>0</td>\n",
       "      <td>0</td>\n",
       "      <td>0</td>\n",
       "      <td>0</td>\n",
       "      <td>0</td>\n",
       "      <td>0</td>\n",
       "      <td>0</td>\n",
       "      <td>1</td>\n",
       "      <td>241.28300</td>\n",
       "      <td>...</td>\n",
       "      <td>0.92406</td>\n",
       "      <td>0.42804</td>\n",
       "      <td>0.32709</td>\n",
       "      <td>1.90482</td>\n",
       "      <td>0.94006</td>\n",
       "      <td>0.41266</td>\n",
       "      <td>0.26840</td>\n",
       "      <td>0.0</td>\n",
       "      <td>1.0</td>\n",
       "      <td>0.0</td>\n",
       "    </tr>\n",
       "    <tr>\n",
       "      <th>693629150375733248</th>\n",
       "      <td>0.229718</td>\n",
       "      <td>0</td>\n",
       "      <td>0</td>\n",
       "      <td>0</td>\n",
       "      <td>0</td>\n",
       "      <td>0</td>\n",
       "      <td>0</td>\n",
       "      <td>0</td>\n",
       "      <td>1</td>\n",
       "      <td>198.84190</td>\n",
       "      <td>...</td>\n",
       "      <td>1.35756</td>\n",
       "      <td>0.48971</td>\n",
       "      <td>0.40055</td>\n",
       "      <td>2.99483</td>\n",
       "      <td>1.33661</td>\n",
       "      <td>0.49060</td>\n",
       "      <td>0.37582</td>\n",
       "      <td>0.0</td>\n",
       "      <td>0.0</td>\n",
       "      <td>1.0</td>\n",
       "    </tr>\n",
       "    <tr>\n",
       "      <th>...</th>\n",
       "      <td>...</td>\n",
       "      <td>...</td>\n",
       "      <td>...</td>\n",
       "      <td>...</td>\n",
       "      <td>...</td>\n",
       "      <td>...</td>\n",
       "      <td>...</td>\n",
       "      <td>...</td>\n",
       "      <td>...</td>\n",
       "      <td>...</td>\n",
       "      <td>...</td>\n",
       "      <td>...</td>\n",
       "      <td>...</td>\n",
       "      <td>...</td>\n",
       "      <td>...</td>\n",
       "      <td>...</td>\n",
       "      <td>...</td>\n",
       "      <td>...</td>\n",
       "      <td>...</td>\n",
       "      <td>...</td>\n",
       "      <td>...</td>\n",
       "    </tr>\n",
       "    <tr>\n",
       "      <th>957077632204171264</th>\n",
       "      <td>0.150921</td>\n",
       "      <td>0</td>\n",
       "      <td>0</td>\n",
       "      <td>0</td>\n",
       "      <td>0</td>\n",
       "      <td>0</td>\n",
       "      <td>0</td>\n",
       "      <td>0</td>\n",
       "      <td>1</td>\n",
       "      <td>181.48450</td>\n",
       "      <td>...</td>\n",
       "      <td>1.03221</td>\n",
       "      <td>0.44277</td>\n",
       "      <td>0.30476</td>\n",
       "      <td>1.22845</td>\n",
       "      <td>0.93079</td>\n",
       "      <td>0.40980</td>\n",
       "      <td>0.05350</td>\n",
       "      <td>0.0</td>\n",
       "      <td>0.0</td>\n",
       "      <td>1.0</td>\n",
       "    </tr>\n",
       "    <tr>\n",
       "      <th>957077357326264320</th>\n",
       "      <td>0.084226</td>\n",
       "      <td>0</td>\n",
       "      <td>0</td>\n",
       "      <td>0</td>\n",
       "      <td>0</td>\n",
       "      <td>0</td>\n",
       "      <td>1</td>\n",
       "      <td>0</td>\n",
       "      <td>0</td>\n",
       "      <td>43.81417</td>\n",
       "      <td>...</td>\n",
       "      <td>0.67597</td>\n",
       "      <td>0.38023</td>\n",
       "      <td>0.24776</td>\n",
       "      <td>1.51657</td>\n",
       "      <td>0.61436</td>\n",
       "      <td>0.38013</td>\n",
       "      <td>0.17309</td>\n",
       "      <td>1.0</td>\n",
       "      <td>0.0</td>\n",
       "      <td>0.0</td>\n",
       "    </tr>\n",
       "    <tr>\n",
       "      <th>957066637087893504</th>\n",
       "      <td>0.141610</td>\n",
       "      <td>0</td>\n",
       "      <td>0</td>\n",
       "      <td>0</td>\n",
       "      <td>0</td>\n",
       "      <td>0</td>\n",
       "      <td>0</td>\n",
       "      <td>0</td>\n",
       "      <td>1</td>\n",
       "      <td>194.91520</td>\n",
       "      <td>...</td>\n",
       "      <td>1.09985</td>\n",
       "      <td>0.45063</td>\n",
       "      <td>0.33057</td>\n",
       "      <td>2.28958</td>\n",
       "      <td>0.96166</td>\n",
       "      <td>0.41758</td>\n",
       "      <td>0.25075</td>\n",
       "      <td>1.0</td>\n",
       "      <td>0.0</td>\n",
       "      <td>0.0</td>\n",
       "    </tr>\n",
       "    <tr>\n",
       "      <th>957064712942544896</th>\n",
       "      <td>0.151288</td>\n",
       "      <td>0</td>\n",
       "      <td>0</td>\n",
       "      <td>0</td>\n",
       "      <td>0</td>\n",
       "      <td>0</td>\n",
       "      <td>0</td>\n",
       "      <td>0</td>\n",
       "      <td>1</td>\n",
       "      <td>188.83720</td>\n",
       "      <td>...</td>\n",
       "      <td>1.08982</td>\n",
       "      <td>0.48391</td>\n",
       "      <td>0.37907</td>\n",
       "      <td>2.58086</td>\n",
       "      <td>1.02995</td>\n",
       "      <td>0.46696</td>\n",
       "      <td>0.31692</td>\n",
       "      <td>0.0</td>\n",
       "      <td>0.0</td>\n",
       "      <td>1.0</td>\n",
       "    </tr>\n",
       "    <tr>\n",
       "      <th>957064987820451840</th>\n",
       "      <td>0.046055</td>\n",
       "      <td>0</td>\n",
       "      <td>0</td>\n",
       "      <td>0</td>\n",
       "      <td>0</td>\n",
       "      <td>0</td>\n",
       "      <td>0</td>\n",
       "      <td>0</td>\n",
       "      <td>1</td>\n",
       "      <td>0.00000</td>\n",
       "      <td>...</td>\n",
       "      <td>0.53510</td>\n",
       "      <td>0.26400</td>\n",
       "      <td>0.18128</td>\n",
       "      <td>1.62257</td>\n",
       "      <td>0.53225</td>\n",
       "      <td>0.27303</td>\n",
       "      <td>0.10955</td>\n",
       "      <td>0.0</td>\n",
       "      <td>0.0</td>\n",
       "      <td>1.0</td>\n",
       "    </tr>\n",
       "  </tbody>\n",
       "</table>\n",
       "<p>531180 rows × 83 columns</p>\n",
       "</div>"
      ],
      "text/plain": [
       "                           z  subClass_AGN  subClass_AGN BROADLINE  \\\n",
       "specObjID                                                            \n",
       "957075158303008768  0.012095             0                       0   \n",
       "957066087332079616  0.141718             0                       0   \n",
       "957065537576265728  0.140137             0                       0   \n",
       "957066911965800448  0.066672             0                       0   \n",
       "693629150375733248  0.229718             0                       0   \n",
       "...                      ...           ...                     ...   \n",
       "957077632204171264  0.150921             0                       0   \n",
       "957077357326264320  0.084226             0                       0   \n",
       "957066637087893504  0.141610             0                       0   \n",
       "957064712942544896  0.151288             0                       0   \n",
       "957064987820451840  0.046055             0                       0   \n",
       "\n",
       "                    subClass_BROADLINE  subClass_STARBURST  \\\n",
       "specObjID                                                    \n",
       "957075158303008768                   0                   1   \n",
       "957066087332079616                   0                   0   \n",
       "957065537576265728                   0                   0   \n",
       "957066911965800448                   0                   0   \n",
       "693629150375733248                   0                   0   \n",
       "...                                ...                 ...   \n",
       "957077632204171264                   0                   0   \n",
       "957077357326264320                   0                   0   \n",
       "957066637087893504                   0                   0   \n",
       "957064712942544896                   0                   0   \n",
       "957064987820451840                   0                   0   \n",
       "\n",
       "                    subClass_STARBURST BROADLINE  subClass_STARFORMING  \\\n",
       "specObjID                                                                \n",
       "957075158303008768                             0                     0   \n",
       "957066087332079616                             0                     0   \n",
       "957065537576265728                             0                     0   \n",
       "957066911965800448                             0                     0   \n",
       "693629150375733248                             0                     0   \n",
       "...                                          ...                   ...   \n",
       "957077632204171264                             0                     0   \n",
       "957077357326264320                             0                     1   \n",
       "957066637087893504                             0                     0   \n",
       "957064712942544896                             0                     0   \n",
       "957064987820451840                             0                     0   \n",
       "\n",
       "                    subClass_STARFORMING BROADLINE  subClass_UNKNOWN  \\\n",
       "specObjID                                                              \n",
       "957075158303008768                               0                 0   \n",
       "957066087332079616                               0                 1   \n",
       "957065537576265728                               0                 1   \n",
       "957066911965800448                               0                 1   \n",
       "693629150375733248                               0                 1   \n",
       "...                                            ...               ...   \n",
       "957077632204171264                               0                 1   \n",
       "957077357326264320                               0                 0   \n",
       "957066637087893504                               0                 1   \n",
       "957064712942544896                               0                 1   \n",
       "957064987820451840                               0                 1   \n",
       "\n",
       "                      velDisp  ...  modelColor_gr  modelColor_ri  \\\n",
       "specObjID                      ...                                 \n",
       "957075158303008768   60.39996  ...        0.25431        0.09500   \n",
       "957066087332079616  217.80020  ...        1.07714        0.45090   \n",
       "957065537576265728  138.90830  ...        0.85273        0.41891   \n",
       "957066911965800448  241.28300  ...        0.92406        0.42804   \n",
       "693629150375733248  198.84190  ...        1.35756        0.48971   \n",
       "...                       ...  ...            ...            ...   \n",
       "957077632204171264  181.48450  ...        1.03221        0.44277   \n",
       "957077357326264320   43.81417  ...        0.67597        0.38023   \n",
       "957066637087893504  194.91520  ...        1.09985        0.45063   \n",
       "957064712942544896  188.83720  ...        1.08982        0.48391   \n",
       "957064987820451840    0.00000  ...        0.53510        0.26400   \n",
       "\n",
       "                    modelColor_iz  petroColor_ug  petroColor_gr  \\\n",
       "specObjID                                                         \n",
       "957075158303008768        0.11706        0.79000        0.35837   \n",
       "957066087332079616        0.35530        2.11901        1.03352   \n",
       "957065537576265728        0.31316        1.07275        0.76730   \n",
       "957066911965800448        0.32709        1.90482        0.94006   \n",
       "693629150375733248        0.40055        2.99483        1.33661   \n",
       "...                           ...            ...            ...   \n",
       "957077632204171264        0.30476        1.22845        0.93079   \n",
       "957077357326264320        0.24776        1.51657        0.61436   \n",
       "957066637087893504        0.33057        2.28958        0.96166   \n",
       "957064712942544896        0.37907        2.58086        1.02995   \n",
       "957064987820451840        0.18128        1.62257        0.53225   \n",
       "\n",
       "                    petroColor_ri  petroColor_iz  spiral  elliptical  \\\n",
       "specObjID                                                              \n",
       "957075158303008768        0.15143        0.10247     0.0         0.0   \n",
       "957066087332079616        0.43049        0.27852     0.0         0.0   \n",
       "957065537576265728        0.36148        0.22301     1.0         0.0   \n",
       "957066911965800448        0.41266        0.26840     0.0         1.0   \n",
       "693629150375733248        0.49060        0.37582     0.0         0.0   \n",
       "...                           ...            ...     ...         ...   \n",
       "957077632204171264        0.40980        0.05350     0.0         0.0   \n",
       "957077357326264320        0.38013        0.17309     1.0         0.0   \n",
       "957066637087893504        0.41758        0.25075     1.0         0.0   \n",
       "957064712942544896        0.46696        0.31692     0.0         0.0   \n",
       "957064987820451840        0.27303        0.10955     0.0         0.0   \n",
       "\n",
       "                    uncertain  \n",
       "specObjID                      \n",
       "957075158303008768        1.0  \n",
       "957066087332079616        1.0  \n",
       "957065537576265728        0.0  \n",
       "957066911965800448        0.0  \n",
       "693629150375733248        1.0  \n",
       "...                       ...  \n",
       "957077632204171264        1.0  \n",
       "957077357326264320        0.0  \n",
       "957066637087893504        0.0  \n",
       "957064712942544896        1.0  \n",
       "957064987820451840        1.0  \n",
       "\n",
       "[531180 rows x 83 columns]"
      ]
     },
     "execution_count": 3,
     "metadata": {},
     "output_type": "execute_result"
    }
   ],
   "source": [
    "import zipfile\n",
    "import os.path\n",
    "\n",
    "if not os.path.isfile('../data/DiploDatos_clean.csv'):\n",
    "    path_to_zip_file = '../data/DiploDatos_clean.zip'\n",
    "    directory_to_extract_to = '../data/'\n",
    "    \n",
    "    with zipfile.ZipFile(path_to_zip_file, 'r') as zip_ref:\n",
    "        zip_ref.extractall(directory_to_extract_to)\n",
    "\n",
    "filename = '../data/DiploDatos_clean.csv'\n",
    "df = pd.read_csv(filename,index_col=0)\n",
    "df"
   ]
  },
  {
   "cell_type": "markdown",
   "metadata": {},
   "source": [
    "  * Tomar el dataset \"limpio\" obtenido del práctico anterior y considerar algunos de los siguientes conjuntos de variables\n",
    "  \n",
    "   + modelMag_*, colores_modelMag, devRad_*\n",
    "   + modelMag_*, colores_modelMag, expRad_*\n",
    "   + petroMag_*, colores_petroMag, petroRad_*, petroR50_*, petroR90_*"
   ]
  },
  {
   "cell_type": "code",
   "execution_count": 4,
   "metadata": {},
   "outputs": [
    {
     "data": {
      "text/plain": [
       "['modelMag_u',\n",
       " 'modelMag_g',\n",
       " 'modelMag_r',\n",
       " 'modelMag_i',\n",
       " 'modelMag_z',\n",
       " 'modelColor_ug',\n",
       " 'modelColor_gr',\n",
       " 'modelColor_ri',\n",
       " 'modelColor_iz',\n",
       " 'deVRad_u',\n",
       " 'deVRad_g',\n",
       " 'deVRad_r',\n",
       " 'deVRad_i',\n",
       " 'deVRad_z']"
      ]
     },
     "execution_count": 4,
     "metadata": {},
     "output_type": "execute_result"
    }
   ],
   "source": [
    "modelMag_deVRad = [col for col in df if col.startswith('model')]\n",
    "modelMag_deVRad = modelMag_deVRad + [col for col in df if col.startswith('deVRad_')]\n",
    "modelMag_deVRad"
   ]
  },
  {
   "cell_type": "code",
   "execution_count": 5,
   "metadata": {},
   "outputs": [
    {
     "data": {
      "text/plain": [
       "['modelMag_u',\n",
       " 'modelMag_g',\n",
       " 'modelMag_r',\n",
       " 'modelMag_i',\n",
       " 'modelMag_z',\n",
       " 'modelColor_ug',\n",
       " 'modelColor_gr',\n",
       " 'modelColor_ri',\n",
       " 'modelColor_iz',\n",
       " 'expRad_u',\n",
       " 'expRad_g',\n",
       " 'expRad_r',\n",
       " 'expRad_i',\n",
       " 'expRad_z']"
      ]
     },
     "execution_count": 5,
     "metadata": {},
     "output_type": "execute_result"
    }
   ],
   "source": [
    "modelMag_expRad = [col for col in df if col.startswith('model')]\n",
    "modelMag_expRad = modelMag_expRad + [col for col in df if col.startswith('expRad_')]\n",
    "modelMag_expRad"
   ]
  },
  {
   "cell_type": "code",
   "execution_count": 6,
   "metadata": {},
   "outputs": [
    {
     "data": {
      "text/plain": [
       "['petroMag_u',\n",
       " 'petroMag_g',\n",
       " 'petroMag_r',\n",
       " 'petroMag_i',\n",
       " 'petroMag_z',\n",
       " 'petroRad_u',\n",
       " 'petroRad_g',\n",
       " 'petroRad_r',\n",
       " 'petroRad_i',\n",
       " 'petroRad_z',\n",
       " 'petroR50_u',\n",
       " 'petroR50_g',\n",
       " 'petroR50_r',\n",
       " 'petroR50_i',\n",
       " 'petroR50_z',\n",
       " 'petroR90_u',\n",
       " 'petroR90_g',\n",
       " 'petroR90_r',\n",
       " 'petroR90_i',\n",
       " 'petroR90_z',\n",
       " 'petroColor_ug',\n",
       " 'petroColor_gr',\n",
       " 'petroColor_ri',\n",
       " 'petroColor_iz']"
      ]
     },
     "execution_count": 6,
     "metadata": {},
     "output_type": "execute_result"
    }
   ],
   "source": [
    "petro = [col for col in df if col.startswith('petro')]\n",
    "petro"
   ]
  },
  {
   "cell_type": "markdown",
   "metadata": {},
   "source": [
    "  * Emplear el modelo de regresión lineal para estimar la variables _redshift_.\n",
    "   + Considere utilizar o no regulación   "
   ]
  },
  {
   "cell_type": "markdown",
   "metadata": {},
   "source": [
    "Se utiliza el modelo de Linear Regression ya que es el más simple de entrenar y aplicar y no se mostraba una mejora notable con los modelos lineales más complejos. El mejor resultado se obtuvo con modelMag_deVRad"
   ]
  },
  {
   "cell_type": "code",
   "execution_count": 7,
   "metadata": {},
   "outputs": [
    {
     "name": "stdout",
     "output_type": "stream",
     "text": [
      "LinearRegression(n_jobs=-1) \n",
      "\n",
      "Train error:  0.0006047025760608245\n",
      "Test error:  0.0006087297919247709\n",
      "Score:  0.734630500659315\n",
      "------------------------------------\n",
      "LinearRegression(n_jobs=-1) \n",
      "\n",
      "Train error:  0.0006112936699606869\n",
      "Test error:  0.0006139577718918767\n",
      "Score:  0.7323514164994166\n",
      "------------------------------------\n",
      "LinearRegression(n_jobs=-1) \n",
      "\n",
      "Train error:  0.0006945536499490006\n",
      "Test error:  0.0007024031309646347\n",
      "Score:  0.6937945708061382\n",
      "------------------------------------\n"
     ]
    }
   ],
   "source": [
    "from sklearn.model_selection import train_test_split\n",
    "from sklearn.linear_model import LinearRegression\n",
    "from sklearn.metrics import mean_squared_error\n",
    "from sklearn.preprocessing import StandardScaler\n",
    "\n",
    "groups= [modelMag_deVRad, modelMag_expRad, petro]\n",
    "y = df[['z']]\n",
    "\n",
    "def model_train_test(model, X, y): \n",
    "    \n",
    "    print(model , '\\n')\n",
    "    X_train, X_test, y_train, y_test = train_test_split(X, y, train_size=0.8, random_state=0)\n",
    "\n",
    "    ss= StandardScaler()\n",
    "    ss.fit(X)\n",
    "    X_train= ss.transform(X_train)\n",
    "    X_test= ss.transform(X_test)\n",
    "\n",
    "    # Entrenar\n",
    "    model.fit(X_train, y_train)\n",
    "    \n",
    "    return model, X_train, y_train, X_test, y_test\n",
    "\n",
    "\n",
    "def model_evaluation_mean_squarred(model, X_train, y_train, X_test, y_test):\n",
    "    # Predecir\n",
    "    y_train_pred = model.predict(X_train)\n",
    "    y_test_pred = model.predict(X_test)\n",
    "    \n",
    "    # Evaluar\n",
    "    train_error = mean_squared_error(y_train, y_train_pred)\n",
    "    test_error = mean_squared_error(y_test, y_test_pred)\n",
    "    print('Train error: ', train_error)\n",
    "    print('Test error: ', test_error)\n",
    "    print('Score: ', model.score(X_test,y_test))\n",
    "    print('------------------------------------')\n",
    "\n",
    "for group in groups:\n",
    "    X = df[group]\n",
    "    model, X_train, y_train, X_test, y_test= model_train_test(LinearRegression(n_jobs=-1), X, y)\n",
    "    model_evaluation_mean_squarred(model, X_train, y_train, X_test, y_test)\n",
    "   "
   ]
  },
  {
   "cell_type": "markdown",
   "metadata": {},
   "source": [
    "1. Utilizar algún método para evaluar la complejidad del/de los modelo/s.\n",
    "\n",
    "Viendo los resultados del punto anterior podemos ver que no hay algun beneficio de usar un mayor nro de features como en el grupo 3, ya que la el error fue mayor en ese caso que en los otros."
   ]
  },
  {
   "cell_type": "markdown",
   "metadata": {},
   "source": [
    "Empleamos un test de validacion cruzada para evaluar el entrenamiento con distintos subsets del dataset. Y obtenemos resultados similares en todas las divisiones, por ende consideramos que la división del dataset no afecta al entrenamiento del modelo"
   ]
  },
  {
   "cell_type": "code",
   "execution_count": 8,
   "metadata": {},
   "outputs": [
    {
     "data": {
      "text/plain": [
       "array([0.72453686, 0.74677631, 0.73555645, 0.74944331, 0.73948237,\n",
       "       0.7454686 , 0.73112854, 0.73691038, 0.72300875, 0.73311024])"
      ]
     },
     "metadata": {},
     "output_type": "display_data"
    },
    {
     "data": {
      "text/plain": [
       "array([0.72453348, 0.746777  , 0.7355545 , 0.74945097, 0.73949714,\n",
       "       0.74548519, 0.73112417, 0.73690203, 0.7230019 , 0.73310319])"
      ]
     },
     "metadata": {},
     "output_type": "display_data"
    }
   ],
   "source": [
    "from sklearn.model_selection import cross_val_score\n",
    "\n",
    "display(cross_val_score(Ridge(), df[modelMag_deVRad], y, cv =10))\n",
    "display(cross_val_score(LinearRegression(), df[modelMag_deVRad], y, cv= 10))"
   ]
  },
  {
   "cell_type": "markdown",
   "metadata": {},
   "source": [
    "  * Evaluar que sucede si se distrimina por tipo de galaxia."
   ]
  },
  {
   "cell_type": "markdown",
   "metadata": {},
   "source": [
    "Si se redujo el error en todos los casos, salvo en uncertain que es entendible ya que no hay un patrón definido para predecir. Destacamos el caso de elliptical con el grupo 2, obtuvimos un 92% de precisión, que es notablemente mejor a los resultados anteriores\n"
   ]
  },
  {
   "cell_type": "code",
   "execution_count": 8,
   "metadata": {},
   "outputs": [
    {
     "name": "stdout",
     "output_type": "stream",
     "text": [
      "____________________________________\n",
      "\n",
      "spiral: \n",
      "LinearRegression(n_jobs=-1) \n",
      "\n",
      "Train error:  0.0004978328237959866\n",
      "Test error:  0.0004882044214076874\n",
      "Score:  0.6630089736213434\n",
      "------------------------------------\n",
      "LinearRegression(n_jobs=-1) \n",
      "\n",
      "Train error:  0.0005083891601798556\n",
      "Test error:  0.0004975969877067403\n",
      "Score:  0.6565256022739048\n",
      "------------------------------------\n",
      "LinearRegression(n_jobs=-1) \n",
      "\n",
      "Train error:  0.0005321374810176978\n",
      "Test error:  0.0005246109088040574\n",
      "Score:  0.6378788047482944\n",
      "------------------------------------\n",
      "____________________________________\n",
      "\n",
      "elliptical: \n",
      "LinearRegression(n_jobs=-1) \n",
      "\n",
      "Train error:  0.00032474705922585964\n",
      "Test error:  0.00028617029267729877\n",
      "Score:  0.9222854923821897\n",
      "------------------------------------\n",
      "LinearRegression(n_jobs=-1) \n",
      "\n",
      "Train error:  0.00033032339704202875\n",
      "Test error:  0.0002905551125744123\n",
      "Score:  0.9210947184688358\n",
      "------------------------------------\n",
      "LinearRegression(n_jobs=-1) \n",
      "\n",
      "Train error:  0.0003548363153013232\n",
      "Test error:  0.00033041126833788405\n",
      "Score:  0.910271087924523\n",
      "------------------------------------\n",
      "____________________________________\n",
      "\n",
      "uncertain: \n",
      "LinearRegression(n_jobs=-1) \n",
      "\n",
      "Train error:  0.0006423878047543075\n",
      "Test error:  0.0006459043169340413\n",
      "Score:  0.7251824592329137\n",
      "------------------------------------\n",
      "LinearRegression(n_jobs=-1) \n",
      "\n",
      "Train error:  0.000645620991073894\n",
      "Test error:  0.0006492498662233387\n",
      "Score:  0.7237590043896885\n",
      "------------------------------------\n",
      "LinearRegression(n_jobs=-1) \n",
      "\n",
      "Train error:  0.0007335706669369975\n",
      "Test error:  0.0007344502273565415\n",
      "Score:  0.6875081958639956\n",
      "------------------------------------\n"
     ]
    }
   ],
   "source": [
    "for shape in ['spiral', 'elliptical', 'uncertain']:\n",
    "    print('____________________________________')\n",
    "    print('\\n' + shape + ': ')\n",
    "    for group in groups:\n",
    "        X = df[df[shape] == 1][group]\n",
    "        y = df[df[shape] == 1][['z']]\n",
    "        \n",
    "        model, X_train, y_train, X_test, y_test= model_train_test(LinearRegression(n_jobs= -1), X, y)\n",
    "        model_evaluation_mean_squarred(model, X_train, y_train, X_test, y_test)"
   ]
  },
  {
   "cell_type": "markdown",
   "metadata": {},
   "source": [
    "\n",
    "  * Emplear algunos (más de uno) de los modelos de clasificación (perceptrón, regresión logística, vecinos más cercanos) para clasificar las galaxias en elípticas y espirales a partir de las variables elegidas.\n",
    "  \n",
    "   + Computar las metricas accuracy,precision, recall, F1, matriz de confusión\n",
    " \n",
    "   + Visualización de la frontera de decisión"
   ]
  },
  {
   "cell_type": "markdown",
   "metadata": {},
   "source": [
    "Tomamos el df original y dejamos las filas que tienen forma \"uncertain\" de lado. Luego tomamos solo una de las columnas de forma y eliminamos la otra. En este caso nos quedamos con 'spiral' y la renombramos a 'shape'. 1 significa que tiene forma spiral, mientras que 0 significa que tiene forma eliptica.\n"
   ]
  },
  {
   "cell_type": "code",
   "execution_count": 10,
   "metadata": {},
   "outputs": [
    {
     "data": {
      "text/html": [
       "<div>\n",
       "<style scoped>\n",
       "    .dataframe tbody tr th:only-of-type {\n",
       "        vertical-align: middle;\n",
       "    }\n",
       "\n",
       "    .dataframe tbody tr th {\n",
       "        vertical-align: top;\n",
       "    }\n",
       "\n",
       "    .dataframe thead th {\n",
       "        text-align: right;\n",
       "    }\n",
       "</style>\n",
       "<table border=\"1\" class=\"dataframe\">\n",
       "  <thead>\n",
       "    <tr style=\"text-align: right;\">\n",
       "      <th></th>\n",
       "      <th>z</th>\n",
       "      <th>subClass_AGN</th>\n",
       "      <th>subClass_AGN BROADLINE</th>\n",
       "      <th>subClass_BROADLINE</th>\n",
       "      <th>subClass_STARBURST</th>\n",
       "      <th>subClass_STARBURST BROADLINE</th>\n",
       "      <th>subClass_STARFORMING</th>\n",
       "      <th>subClass_STARFORMING BROADLINE</th>\n",
       "      <th>subClass_UNKNOWN</th>\n",
       "      <th>velDisp</th>\n",
       "      <th>...</th>\n",
       "      <th>extinction_z</th>\n",
       "      <th>modelColor_ug</th>\n",
       "      <th>modelColor_gr</th>\n",
       "      <th>modelColor_ri</th>\n",
       "      <th>modelColor_iz</th>\n",
       "      <th>petroColor_ug</th>\n",
       "      <th>petroColor_gr</th>\n",
       "      <th>petroColor_ri</th>\n",
       "      <th>petroColor_iz</th>\n",
       "      <th>shape</th>\n",
       "    </tr>\n",
       "    <tr>\n",
       "      <th>specObjID</th>\n",
       "      <th></th>\n",
       "      <th></th>\n",
       "      <th></th>\n",
       "      <th></th>\n",
       "      <th></th>\n",
       "      <th></th>\n",
       "      <th></th>\n",
       "      <th></th>\n",
       "      <th></th>\n",
       "      <th></th>\n",
       "      <th></th>\n",
       "      <th></th>\n",
       "      <th></th>\n",
       "      <th></th>\n",
       "      <th></th>\n",
       "      <th></th>\n",
       "      <th></th>\n",
       "      <th></th>\n",
       "      <th></th>\n",
       "      <th></th>\n",
       "      <th></th>\n",
       "    </tr>\n",
       "  </thead>\n",
       "  <tbody>\n",
       "    <tr>\n",
       "      <th>957065537576265728</th>\n",
       "      <td>0.140137</td>\n",
       "      <td>0</td>\n",
       "      <td>0</td>\n",
       "      <td>0</td>\n",
       "      <td>0</td>\n",
       "      <td>0</td>\n",
       "      <td>0</td>\n",
       "      <td>0</td>\n",
       "      <td>1</td>\n",
       "      <td>138.90830</td>\n",
       "      <td>...</td>\n",
       "      <td>0.038191</td>\n",
       "      <td>1.36642</td>\n",
       "      <td>0.85273</td>\n",
       "      <td>0.41891</td>\n",
       "      <td>0.31316</td>\n",
       "      <td>1.07275</td>\n",
       "      <td>0.76730</td>\n",
       "      <td>0.36148</td>\n",
       "      <td>0.22301</td>\n",
       "      <td>1.0</td>\n",
       "    </tr>\n",
       "    <tr>\n",
       "      <th>957066911965800448</th>\n",
       "      <td>0.066672</td>\n",
       "      <td>0</td>\n",
       "      <td>0</td>\n",
       "      <td>0</td>\n",
       "      <td>0</td>\n",
       "      <td>0</td>\n",
       "      <td>0</td>\n",
       "      <td>0</td>\n",
       "      <td>1</td>\n",
       "      <td>241.28300</td>\n",
       "      <td>...</td>\n",
       "      <td>0.039920</td>\n",
       "      <td>1.98755</td>\n",
       "      <td>0.92406</td>\n",
       "      <td>0.42804</td>\n",
       "      <td>0.32709</td>\n",
       "      <td>1.90482</td>\n",
       "      <td>0.94006</td>\n",
       "      <td>0.41266</td>\n",
       "      <td>0.26840</td>\n",
       "      <td>0.0</td>\n",
       "    </tr>\n",
       "    <tr>\n",
       "      <th>637262958233151488</th>\n",
       "      <td>0.098105</td>\n",
       "      <td>0</td>\n",
       "      <td>0</td>\n",
       "      <td>0</td>\n",
       "      <td>0</td>\n",
       "      <td>0</td>\n",
       "      <td>0</td>\n",
       "      <td>0</td>\n",
       "      <td>1</td>\n",
       "      <td>135.15380</td>\n",
       "      <td>...</td>\n",
       "      <td>0.065738</td>\n",
       "      <td>2.00215</td>\n",
       "      <td>0.99819</td>\n",
       "      <td>0.41886</td>\n",
       "      <td>0.34026</td>\n",
       "      <td>1.87594</td>\n",
       "      <td>1.00148</td>\n",
       "      <td>0.41436</td>\n",
       "      <td>0.36765</td>\n",
       "      <td>1.0</td>\n",
       "    </tr>\n",
       "    <tr>\n",
       "      <th>637266806523848704</th>\n",
       "      <td>0.098102</td>\n",
       "      <td>0</td>\n",
       "      <td>0</td>\n",
       "      <td>0</td>\n",
       "      <td>0</td>\n",
       "      <td>0</td>\n",
       "      <td>0</td>\n",
       "      <td>0</td>\n",
       "      <td>1</td>\n",
       "      <td>112.93020</td>\n",
       "      <td>...</td>\n",
       "      <td>0.091773</td>\n",
       "      <td>2.23307</td>\n",
       "      <td>1.08105</td>\n",
       "      <td>0.58453</td>\n",
       "      <td>0.47377</td>\n",
       "      <td>1.55629</td>\n",
       "      <td>0.93613</td>\n",
       "      <td>0.56206</td>\n",
       "      <td>0.31988</td>\n",
       "      <td>1.0</td>\n",
       "    </tr>\n",
       "    <tr>\n",
       "      <th>657536025333098496</th>\n",
       "      <td>0.140486</td>\n",
       "      <td>0</td>\n",
       "      <td>0</td>\n",
       "      <td>0</td>\n",
       "      <td>0</td>\n",
       "      <td>0</td>\n",
       "      <td>0</td>\n",
       "      <td>0</td>\n",
       "      <td>1</td>\n",
       "      <td>175.91280</td>\n",
       "      <td>...</td>\n",
       "      <td>0.035493</td>\n",
       "      <td>1.88164</td>\n",
       "      <td>1.11437</td>\n",
       "      <td>0.44518</td>\n",
       "      <td>0.35569</td>\n",
       "      <td>1.99036</td>\n",
       "      <td>1.08765</td>\n",
       "      <td>0.42870</td>\n",
       "      <td>0.33457</td>\n",
       "      <td>0.0</td>\n",
       "    </tr>\n",
       "    <tr>\n",
       "      <th>...</th>\n",
       "      <td>...</td>\n",
       "      <td>...</td>\n",
       "      <td>...</td>\n",
       "      <td>...</td>\n",
       "      <td>...</td>\n",
       "      <td>...</td>\n",
       "      <td>...</td>\n",
       "      <td>...</td>\n",
       "      <td>...</td>\n",
       "      <td>...</td>\n",
       "      <td>...</td>\n",
       "      <td>...</td>\n",
       "      <td>...</td>\n",
       "      <td>...</td>\n",
       "      <td>...</td>\n",
       "      <td>...</td>\n",
       "      <td>...</td>\n",
       "      <td>...</td>\n",
       "      <td>...</td>\n",
       "      <td>...</td>\n",
       "      <td>...</td>\n",
       "    </tr>\n",
       "    <tr>\n",
       "      <th>676731578688235520</th>\n",
       "      <td>0.042114</td>\n",
       "      <td>0</td>\n",
       "      <td>0</td>\n",
       "      <td>0</td>\n",
       "      <td>0</td>\n",
       "      <td>0</td>\n",
       "      <td>1</td>\n",
       "      <td>0</td>\n",
       "      <td>0</td>\n",
       "      <td>66.03696</td>\n",
       "      <td>...</td>\n",
       "      <td>0.024811</td>\n",
       "      <td>1.55416</td>\n",
       "      <td>0.64171</td>\n",
       "      <td>0.30376</td>\n",
       "      <td>0.23973</td>\n",
       "      <td>1.46784</td>\n",
       "      <td>0.57502</td>\n",
       "      <td>0.22963</td>\n",
       "      <td>0.12693</td>\n",
       "      <td>1.0</td>\n",
       "    </tr>\n",
       "    <tr>\n",
       "      <th>676730754054514688</th>\n",
       "      <td>0.041741</td>\n",
       "      <td>0</td>\n",
       "      <td>0</td>\n",
       "      <td>0</td>\n",
       "      <td>0</td>\n",
       "      <td>0</td>\n",
       "      <td>1</td>\n",
       "      <td>0</td>\n",
       "      <td>0</td>\n",
       "      <td>84.41058</td>\n",
       "      <td>...</td>\n",
       "      <td>0.023377</td>\n",
       "      <td>1.25228</td>\n",
       "      <td>0.53823</td>\n",
       "      <td>0.31723</td>\n",
       "      <td>0.26024</td>\n",
       "      <td>1.21323</td>\n",
       "      <td>0.47440</td>\n",
       "      <td>0.31167</td>\n",
       "      <td>0.23409</td>\n",
       "      <td>1.0</td>\n",
       "    </tr>\n",
       "    <tr>\n",
       "      <th>676720858449864704</th>\n",
       "      <td>0.104332</td>\n",
       "      <td>0</td>\n",
       "      <td>0</td>\n",
       "      <td>0</td>\n",
       "      <td>0</td>\n",
       "      <td>0</td>\n",
       "      <td>1</td>\n",
       "      <td>0</td>\n",
       "      <td>0</td>\n",
       "      <td>44.97516</td>\n",
       "      <td>...</td>\n",
       "      <td>0.025451</td>\n",
       "      <td>1.24413</td>\n",
       "      <td>0.68379</td>\n",
       "      <td>0.35308</td>\n",
       "      <td>0.26958</td>\n",
       "      <td>1.16363</td>\n",
       "      <td>0.58216</td>\n",
       "      <td>0.30975</td>\n",
       "      <td>0.19878</td>\n",
       "      <td>1.0</td>\n",
       "    </tr>\n",
       "    <tr>\n",
       "      <th>957077357326264320</th>\n",
       "      <td>0.084226</td>\n",
       "      <td>0</td>\n",
       "      <td>0</td>\n",
       "      <td>0</td>\n",
       "      <td>0</td>\n",
       "      <td>0</td>\n",
       "      <td>1</td>\n",
       "      <td>0</td>\n",
       "      <td>0</td>\n",
       "      <td>43.81417</td>\n",
       "      <td>...</td>\n",
       "      <td>0.039202</td>\n",
       "      <td>1.51278</td>\n",
       "      <td>0.67597</td>\n",
       "      <td>0.38023</td>\n",
       "      <td>0.24776</td>\n",
       "      <td>1.51657</td>\n",
       "      <td>0.61436</td>\n",
       "      <td>0.38013</td>\n",
       "      <td>0.17309</td>\n",
       "      <td>1.0</td>\n",
       "    </tr>\n",
       "    <tr>\n",
       "      <th>957066637087893504</th>\n",
       "      <td>0.141610</td>\n",
       "      <td>0</td>\n",
       "      <td>0</td>\n",
       "      <td>0</td>\n",
       "      <td>0</td>\n",
       "      <td>0</td>\n",
       "      <td>0</td>\n",
       "      <td>0</td>\n",
       "      <td>1</td>\n",
       "      <td>194.91520</td>\n",
       "      <td>...</td>\n",
       "      <td>0.041437</td>\n",
       "      <td>2.15777</td>\n",
       "      <td>1.09985</td>\n",
       "      <td>0.45063</td>\n",
       "      <td>0.33057</td>\n",
       "      <td>2.28958</td>\n",
       "      <td>0.96166</td>\n",
       "      <td>0.41758</td>\n",
       "      <td>0.25075</td>\n",
       "      <td>1.0</td>\n",
       "    </tr>\n",
       "  </tbody>\n",
       "</table>\n",
       "<p>184138 rows × 81 columns</p>\n",
       "</div>"
      ],
      "text/plain": [
       "                           z  subClass_AGN  subClass_AGN BROADLINE  \\\n",
       "specObjID                                                            \n",
       "957065537576265728  0.140137             0                       0   \n",
       "957066911965800448  0.066672             0                       0   \n",
       "637262958233151488  0.098105             0                       0   \n",
       "637266806523848704  0.098102             0                       0   \n",
       "657536025333098496  0.140486             0                       0   \n",
       "...                      ...           ...                     ...   \n",
       "676731578688235520  0.042114             0                       0   \n",
       "676730754054514688  0.041741             0                       0   \n",
       "676720858449864704  0.104332             0                       0   \n",
       "957077357326264320  0.084226             0                       0   \n",
       "957066637087893504  0.141610             0                       0   \n",
       "\n",
       "                    subClass_BROADLINE  subClass_STARBURST  \\\n",
       "specObjID                                                    \n",
       "957065537576265728                   0                   0   \n",
       "957066911965800448                   0                   0   \n",
       "637262958233151488                   0                   0   \n",
       "637266806523848704                   0                   0   \n",
       "657536025333098496                   0                   0   \n",
       "...                                ...                 ...   \n",
       "676731578688235520                   0                   0   \n",
       "676730754054514688                   0                   0   \n",
       "676720858449864704                   0                   0   \n",
       "957077357326264320                   0                   0   \n",
       "957066637087893504                   0                   0   \n",
       "\n",
       "                    subClass_STARBURST BROADLINE  subClass_STARFORMING  \\\n",
       "specObjID                                                                \n",
       "957065537576265728                             0                     0   \n",
       "957066911965800448                             0                     0   \n",
       "637262958233151488                             0                     0   \n",
       "637266806523848704                             0                     0   \n",
       "657536025333098496                             0                     0   \n",
       "...                                          ...                   ...   \n",
       "676731578688235520                             0                     1   \n",
       "676730754054514688                             0                     1   \n",
       "676720858449864704                             0                     1   \n",
       "957077357326264320                             0                     1   \n",
       "957066637087893504                             0                     0   \n",
       "\n",
       "                    subClass_STARFORMING BROADLINE  subClass_UNKNOWN  \\\n",
       "specObjID                                                              \n",
       "957065537576265728                               0                 1   \n",
       "957066911965800448                               0                 1   \n",
       "637262958233151488                               0                 1   \n",
       "637266806523848704                               0                 1   \n",
       "657536025333098496                               0                 1   \n",
       "...                                            ...               ...   \n",
       "676731578688235520                               0                 0   \n",
       "676730754054514688                               0                 0   \n",
       "676720858449864704                               0                 0   \n",
       "957077357326264320                               0                 0   \n",
       "957066637087893504                               0                 1   \n",
       "\n",
       "                      velDisp  ...  extinction_z  modelColor_ug  \\\n",
       "specObjID                      ...                                \n",
       "957065537576265728  138.90830  ...      0.038191        1.36642   \n",
       "957066911965800448  241.28300  ...      0.039920        1.98755   \n",
       "637262958233151488  135.15380  ...      0.065738        2.00215   \n",
       "637266806523848704  112.93020  ...      0.091773        2.23307   \n",
       "657536025333098496  175.91280  ...      0.035493        1.88164   \n",
       "...                       ...  ...           ...            ...   \n",
       "676731578688235520   66.03696  ...      0.024811        1.55416   \n",
       "676730754054514688   84.41058  ...      0.023377        1.25228   \n",
       "676720858449864704   44.97516  ...      0.025451        1.24413   \n",
       "957077357326264320   43.81417  ...      0.039202        1.51278   \n",
       "957066637087893504  194.91520  ...      0.041437        2.15777   \n",
       "\n",
       "                    modelColor_gr  modelColor_ri  modelColor_iz  \\\n",
       "specObjID                                                         \n",
       "957065537576265728        0.85273        0.41891        0.31316   \n",
       "957066911965800448        0.92406        0.42804        0.32709   \n",
       "637262958233151488        0.99819        0.41886        0.34026   \n",
       "637266806523848704        1.08105        0.58453        0.47377   \n",
       "657536025333098496        1.11437        0.44518        0.35569   \n",
       "...                           ...            ...            ...   \n",
       "676731578688235520        0.64171        0.30376        0.23973   \n",
       "676730754054514688        0.53823        0.31723        0.26024   \n",
       "676720858449864704        0.68379        0.35308        0.26958   \n",
       "957077357326264320        0.67597        0.38023        0.24776   \n",
       "957066637087893504        1.09985        0.45063        0.33057   \n",
       "\n",
       "                    petroColor_ug  petroColor_gr  petroColor_ri  \\\n",
       "specObjID                                                         \n",
       "957065537576265728        1.07275        0.76730        0.36148   \n",
       "957066911965800448        1.90482        0.94006        0.41266   \n",
       "637262958233151488        1.87594        1.00148        0.41436   \n",
       "637266806523848704        1.55629        0.93613        0.56206   \n",
       "657536025333098496        1.99036        1.08765        0.42870   \n",
       "...                           ...            ...            ...   \n",
       "676731578688235520        1.46784        0.57502        0.22963   \n",
       "676730754054514688        1.21323        0.47440        0.31167   \n",
       "676720858449864704        1.16363        0.58216        0.30975   \n",
       "957077357326264320        1.51657        0.61436        0.38013   \n",
       "957066637087893504        2.28958        0.96166        0.41758   \n",
       "\n",
       "                    petroColor_iz  shape  \n",
       "specObjID                                 \n",
       "957065537576265728        0.22301    1.0  \n",
       "957066911965800448        0.26840    0.0  \n",
       "637262958233151488        0.36765    1.0  \n",
       "637266806523848704        0.31988    1.0  \n",
       "657536025333098496        0.33457    0.0  \n",
       "...                           ...    ...  \n",
       "676731578688235520        0.12693    1.0  \n",
       "676730754054514688        0.23409    1.0  \n",
       "676720858449864704        0.19878    1.0  \n",
       "957077357326264320        0.17309    1.0  \n",
       "957066637087893504        0.25075    1.0  \n",
       "\n",
       "[184138 rows x 81 columns]"
      ]
     },
     "execution_count": 10,
     "metadata": {},
     "output_type": "execute_result"
    }
   ],
   "source": [
    "df_train = df[(df.elliptical == 1) | (df.spiral == 1)]\n",
    "df_train = df_train.drop(['elliptical', 'uncertain'], axis=1)\n",
    "df_train = df_train.rename(columns={'spiral':'shape'})\n",
    "df_train"
   ]
  },
  {
   "cell_type": "markdown",
   "metadata": {},
   "source": [
    "El mejor resultado lo obtenemos con DecisionTreeClassifier con 100% en entrenamiento y Test accuracy: 93%, con el grupo 2. De esta forma entendemos que los valores de uncertain introducen mucho ruido a los modelos, y que con modelos no lineales obtenemos un mejor resultado y no se necesita mucho mayor tiempo de entrenamiento."
   ]
  },
  {
   "cell_type": "code",
   "execution_count": 11,
   "metadata": {},
   "outputs": [
    {
     "name": "stdout",
     "output_type": "stream",
     "text": [
      "_____________________________________\n",
      "Perceptron() \n",
      "\n",
      "Train accuracy:  0.8954517683796076\n",
      "Test accuracy:  0.8969805582708809\n",
      "              precision    recall  f1-score   support\n",
      "\n",
      "         0.0       0.71      0.92      0.80     33799\n",
      "         1.0       0.97      0.89      0.93    113511\n",
      "\n",
      "    accuracy                           0.90    147310\n",
      "   macro avg       0.84      0.90      0.87    147310\n",
      "weighted avg       0.91      0.90      0.90    147310\n",
      "\n"
     ]
    },
    {
     "data": {
      "image/png": "[encoded data removed]",
      "text/plain": [
       "<Figure size 432x288 with 2 Axes>"
      ]
     },
     "metadata": {
      "needs_background": "light"
     },
     "output_type": "display_data"
    },
    {
     "data": {
      "image/png": "[encoded data removed]",
      "text/plain": [
       "<Figure size 432x288 with 2 Axes>"
      ]
     },
     "metadata": {
      "needs_background": "light"
     },
     "output_type": "display_data"
    },
    {
     "name": "stdout",
     "output_type": "stream",
     "text": [
      "------------------------------------\n",
      "Perceptron() \n",
      "\n",
      "Train accuracy:  0.9432557192315525\n",
      "Test accuracy:  0.9446888237210818\n",
      "              precision    recall  f1-score   support\n",
      "\n",
      "         0.0       0.91      0.83      0.87     33799\n",
      "         1.0       0.95      0.98      0.96    113511\n",
      "\n",
      "    accuracy                           0.94    147310\n",
      "   macro avg       0.93      0.90      0.92    147310\n",
      "weighted avg       0.94      0.94      0.94    147310\n",
      "\n"
     ]
    },
    {
     "data": {
      "image/png": "[encoded data removed]",
      "text/plain": [
       "<Figure size 432x288 with 2 Axes>"
      ]
     },
     "metadata": {
      "needs_background": "light"
     },
     "output_type": "display_data"
    },
    {
     "data": {
      "image/png": "[encoded data removed]",
      "text/plain": [
       "<Figure size 432x288 with 2 Axes>"
      ]
     },
     "metadata": {
      "needs_background": "light"
     },
     "output_type": "display_data"
    },
    {
     "name": "stdout",
     "output_type": "stream",
     "text": [
      "------------------------------------\n",
      "Perceptron() \n",
      "\n",
      "Train accuracy:  0.9121987645102165\n",
      "Test accuracy:  0.9108558705332899\n",
      "              precision    recall  f1-score   support\n",
      "\n",
      "         0.0       0.84      0.76      0.80     33799\n",
      "         1.0       0.93      0.96      0.94    113511\n",
      "\n",
      "    accuracy                           0.91    147310\n",
      "   macro avg       0.89      0.86      0.87    147310\n",
      "weighted avg       0.91      0.91      0.91    147310\n",
      "\n"
     ]
    },
    {
     "data": {
      "image/png": "[encoded data removed]",
      "text/plain": [
       "<Figure size 432x288 with 2 Axes>"
      ]
     },
     "metadata": {
      "needs_background": "light"
     },
     "output_type": "display_data"
    },
    {
     "data": {
      "image/png": "[encoded data removed]",
      "text/plain": [
       "<Figure size 432x288 with 2 Axes>"
      ]
     },
     "metadata": {
      "needs_background": "light"
     },
     "output_type": "display_data"
    },
    {
     "name": "stdout",
     "output_type": "stream",
     "text": [
      "------------------------------------\n",
      "_____________________________________\n",
      "LogisticRegression() \n",
      "\n",
      "Train accuracy:  0.9386396035571244\n",
      "Test accuracy:  0.9399098512001738\n",
      "              precision    recall  f1-score   support\n",
      "\n",
      "         0.0       0.87      0.86      0.87     33799\n",
      "         1.0       0.96      0.96      0.96    113511\n",
      "\n",
      "    accuracy                           0.94    147310\n",
      "   macro avg       0.91      0.91      0.91    147310\n",
      "weighted avg       0.94      0.94      0.94    147310\n",
      "\n"
     ]
    },
    {
     "data": {
      "image/png": "[encoded data removed]",
      "text/plain": [
       "<Figure size 432x288 with 2 Axes>"
      ]
     },
     "metadata": {
      "needs_background": "light"
     },
     "output_type": "display_data"
    },
    {
     "data": {
      "image/png": "[encoded data removed]",
      "text/plain": [
       "<Figure size 432x288 with 2 Axes>"
      ]
     },
     "metadata": {
      "needs_background": "light"
     },
     "output_type": "display_data"
    },
    {
     "name": "stdout",
     "output_type": "stream",
     "text": [
      "------------------------------------\n",
      "LogisticRegression() \n",
      "\n",
      "Train accuracy:  0.9470843798791664\n",
      "Test accuracy:  0.9473769957640925\n",
      "              precision    recall  f1-score   support\n",
      "\n",
      "         0.0       0.89      0.88      0.88     33799\n",
      "         1.0       0.96      0.97      0.97    113511\n",
      "\n",
      "    accuracy                           0.95    147310\n",
      "   macro avg       0.93      0.92      0.92    147310\n",
      "weighted avg       0.95      0.95      0.95    147310\n",
      "\n"
     ]
    },
    {
     "data": {
      "image/png": "[encoded data removed]",
      "text/plain": [
       "<Figure size 432x288 with 2 Axes>"
      ]
     },
     "metadata": {
      "needs_background": "light"
     },
     "output_type": "display_data"
    },
    {
     "data": {
      "image/png": "[encoded data removed]",
      "text/plain": [
       "<Figure size 432x288 with 2 Axes>"
      ]
     },
     "metadata": {
      "needs_background": "light"
     },
     "output_type": "display_data"
    },
    {
     "name": "stdout",
     "output_type": "stream",
     "text": [
      "------------------------------------\n",
      "LogisticRegression() \n",
      "\n",
      "Train accuracy:  0.9347634240716856\n",
      "Test accuracy:  0.9367872271098078\n",
      "              precision    recall  f1-score   support\n",
      "\n",
      "         0.0       0.87      0.84      0.86     33799\n",
      "         1.0       0.95      0.96      0.96    113511\n",
      "\n",
      "    accuracy                           0.93    147310\n",
      "   macro avg       0.91      0.90      0.91    147310\n",
      "weighted avg       0.93      0.93      0.93    147310\n",
      "\n"
     ]
    },
    {
     "data": {
      "image/png": "[encoded data removed]",
      "text/plain": [
       "<Figure size 432x288 with 2 Axes>"
      ]
     },
     "metadata": {
      "needs_background": "light"
     },
     "output_type": "display_data"
    },
    {
     "data": {
      "image/png": "[encoded data removed]",
      "text/plain": [
       "<Figure size 432x288 with 2 Axes>"
      ]
     },
     "metadata": {
      "needs_background": "light"
     },
     "output_type": "display_data"
    },
    {
     "name": "stdout",
     "output_type": "stream",
     "text": [
      "------------------------------------\n",
      "_____________________________________\n",
      "LinearSVC() \n",
      "\n",
      "Train accuracy:  0.9381168963410494\n",
      "Test accuracy:  0.9392038666232214\n",
      "              precision    recall  f1-score   support\n",
      "\n",
      "         0.0       0.87      0.86      0.86     33799\n",
      "         1.0       0.96      0.96      0.96    113511\n",
      "\n",
      "    accuracy                           0.94    147310\n",
      "   macro avg       0.91      0.91      0.91    147310\n",
      "weighted avg       0.94      0.94      0.94    147310\n",
      "\n"
     ]
    },
    {
     "data": {
      "image/png": "[encoded data removed]",
      "text/plain": [
       "<Figure size 432x288 with 2 Axes>"
      ]
     },
     "metadata": {
      "needs_background": "light"
     },
     "output_type": "display_data"
    },
    {
     "data": {
      "image/png": "[encoded data removed]",
      "text/plain": [
       "<Figure size 432x288 with 2 Axes>"
      ]
     },
     "metadata": {
      "needs_background": "light"
     },
     "output_type": "display_data"
    },
    {
     "name": "stdout",
     "output_type": "stream",
     "text": [
      "------------------------------------\n",
      "LinearSVC() \n",
      "\n",
      "Train accuracy:  0.9469621885819021\n",
      "Test accuracy:  0.9474584555229717\n",
      "              precision    recall  f1-score   support\n",
      "\n",
      "         0.0       0.89      0.88      0.88     33799\n",
      "         1.0       0.96      0.97      0.97    113511\n",
      "\n",
      "    accuracy                           0.95    147310\n",
      "   macro avg       0.93      0.92      0.92    147310\n",
      "weighted avg       0.95      0.95      0.95    147310\n",
      "\n"
     ]
    },
    {
     "data": {
      "image/png": "[encoded data removed]",
      "text/plain": [
       "<Figure size 432x288 with 2 Axes>"
      ]
     },
     "metadata": {
      "needs_background": "light"
     },
     "output_type": "display_data"
    },
    {
     "data": {
      "image/png": "[encoded data removed]",
      "text/plain": [
       "<Figure size 432x288 with 2 Axes>"
      ]
     },
     "metadata": {
      "needs_background": "light"
     },
     "output_type": "display_data"
    },
    {
     "name": "stdout",
     "output_type": "stream",
     "text": [
      "------------------------------------\n",
      "LinearSVC() \n",
      "\n",
      "Train accuracy:  0.9345529835041748\n",
      "Test accuracy:  0.9365156945802107\n",
      "              precision    recall  f1-score   support\n",
      "\n",
      "         0.0       0.87      0.84      0.85     33799\n",
      "         1.0       0.95      0.96      0.96    113511\n",
      "\n",
      "    accuracy                           0.93    147310\n",
      "   macro avg       0.91      0.90      0.91    147310\n",
      "weighted avg       0.93      0.93      0.93    147310\n",
      "\n"
     ]
    },
    {
     "data": {
      "image/png": "[encoded data removed]",
      "text/plain": [
       "<Figure size 432x288 with 2 Axes>"
      ]
     },
     "metadata": {
      "needs_background": "light"
     },
     "output_type": "display_data"
    },
    {
     "data": {
      "image/png": "[encoded data removed]",
      "text/plain": [
       "<Figure size 432x288 with 2 Axes>"
      ]
     },
     "metadata": {
      "needs_background": "light"
     },
     "output_type": "display_data"
    },
    {
     "name": "stdout",
     "output_type": "stream",
     "text": [
      "------------------------------------\n",
      "_____________________________________\n",
      "DecisionTreeClassifier() \n",
      "\n",
      "Train accuracy:  1.0\n",
      "Test accuracy:  0.9258173129140871\n",
      "              precision    recall  f1-score   support\n",
      "\n",
      "         0.0       1.00      1.00      1.00     33799\n",
      "         1.0       1.00      1.00      1.00    113511\n",
      "\n",
      "    accuracy                           1.00    147310\n",
      "   macro avg       1.00      1.00      1.00    147310\n",
      "weighted avg       1.00      1.00      1.00    147310\n",
      "\n"
     ]
    },
    {
     "data": {
      "image/png": "[encoded data removed]",
      "text/plain": [
       "<Figure size 432x288 with 2 Axes>"
      ]
     },
     "metadata": {
      "needs_background": "light"
     },
     "output_type": "display_data"
    },
    {
     "data": {
      "image/png": "[encoded data removed]",
      "text/plain": [
       "<Figure size 432x288 with 2 Axes>"
      ]
     },
     "metadata": {
      "needs_background": "light"
     },
     "output_type": "display_data"
    },
    {
     "name": "stdout",
     "output_type": "stream",
     "text": [
      "------------------------------------\n",
      "DecisionTreeClassifier() \n",
      "\n",
      "Train accuracy:  1.0\n",
      "Test accuracy:  0.9343162810904746\n",
      "              precision    recall  f1-score   support\n",
      "\n",
      "         0.0       1.00      1.00      1.00     33799\n",
      "         1.0       1.00      1.00      1.00    113511\n",
      "\n",
      "    accuracy                           1.00    147310\n",
      "   macro avg       1.00      1.00      1.00    147310\n",
      "weighted avg       1.00      1.00      1.00    147310\n",
      "\n"
     ]
    },
    {
     "data": {
      "image/png": "[encoded data removed]",
      "text/plain": [
       "<Figure size 432x288 with 2 Axes>"
      ]
     },
     "metadata": {
      "needs_background": "light"
     },
     "output_type": "display_data"
    },
    {
     "data": {
      "image/png": "[encoded data removed]",
      "text/plain": [
       "<Figure size 432x288 with 2 Axes>"
      ]
     },
     "metadata": {
      "needs_background": "light"
     },
     "output_type": "display_data"
    },
    {
     "name": "stdout",
     "output_type": "stream",
     "text": [
      "------------------------------------\n",
      "DecisionTreeClassifier() \n",
      "\n",
      "Train accuracy:  1.0\n",
      "Test accuracy:  0.9103128054740958\n",
      "              precision    recall  f1-score   support\n",
      "\n",
      "         0.0       1.00      1.00      1.00     33799\n",
      "         1.0       1.00      1.00      1.00    113511\n",
      "\n",
      "    accuracy                           1.00    147310\n",
      "   macro avg       1.00      1.00      1.00    147310\n",
      "weighted avg       1.00      1.00      1.00    147310\n",
      "\n"
     ]
    },
    {
     "data": {
      "image/png": "[encoded data removed]",
      "text/plain": [
       "<Figure size 432x288 with 2 Axes>"
      ]
     },
     "metadata": {
      "needs_background": "light"
     },
     "output_type": "display_data"
    },
    {
     "data": {
      "image/png": "[encoded data removed]",
      "text/plain": [
       "<Figure size 432x288 with 2 Axes>"
      ]
     },
     "metadata": {
      "needs_background": "light"
     },
     "output_type": "display_data"
    },
    {
     "name": "stdout",
     "output_type": "stream",
     "text": [
      "------------------------------------\n"
     ]
    }
   ],
   "source": [
    "from sklearn.linear_model import Perceptron, LogisticRegression\n",
    "from sklearn.svm import LinearSVC\n",
    "from sklearn.tree import DecisionTreeClassifier\n",
    "from sklearn.metrics import accuracy_score, plot_confusion_matrix\n",
    "\n",
    "from sklearn import metrics\n",
    "\n",
    "def model_classification_evaluation(model, X_train, y_train, X_test, y_test):\n",
    "    # Predecir\n",
    "    y_train_pred = model.predict(X_train)\n",
    "    y_test_pred = model.predict(X_test)\n",
    "    \n",
    "    # Evaluar\n",
    "    train_error = accuracy_score(y_train, y_train_pred)\n",
    "    test_error = accuracy_score(y_test, y_test_pred)\n",
    "    print('Train accuracy: ', train_error)\n",
    "    print('Test accuracy: ', test_error)\n",
    "    print(metrics.classification_report(y_train, y_train_pred))\n",
    "    plot_confusion_matrix(model, X_train, y_train,cmap='Purples')\n",
    "    plot_confusion_matrix(model, X_test, y_test,cmap='Purples')\n",
    "    plt.show()\n",
    "    print('------------------------------------')\n",
    "\n",
    "models= [Perceptron(tol=1e-3, random_state=0), LogisticRegression(), LinearSVC(), DecisionTreeClassifier()]\n",
    "for clf_model in models:\n",
    "    print(\"_____________________________________\")\n",
    "    for group in groups:\n",
    "\n",
    "        X = df_train[group]\n",
    "        y = df_train['shape']\n",
    "\n",
    "        model, X_train, y_train, X_test, y_test= model_train_test(clf_model, X, y)\n",
    "        model_classification_evaluation(model, X_train, y_train, X_test, y_test)"
   ]
  }
 ],
 "metadata": {
  "kernelspec": {
   "display_name": "Python 3",
   "language": "python",
   "name": "python3"
  },
  "language_info": {
   "codemirror_mode": {
    "name": "ipython",
    "version": 3
   },
   "file_extension": ".py",
   "mimetype": "text/x-python",
   "name": "python",
   "nbconvert_exporter": "python",
   "pygments_lexer": "ipython3",
   "version": "3.8.5"
  }
 },
 "nbformat": 4,
 "nbformat_minor": 4
}
